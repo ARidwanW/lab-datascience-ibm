{
  "nbformat": 4,
  "nbformat_minor": 0,
  "metadata": {
    "colab": {
      "provenance": [],
      "authorship_tag": "ABX9TyNpdA5LXN766h8EoIs3/WqU",
      "include_colab_link": true
    },
    "kernelspec": {
      "name": "python3",
      "display_name": "Python 3"
    },
    "language_info": {
      "name": "python"
    }
  },
  "cells": [
    {
      "cell_type": "markdown",
      "metadata": {
        "id": "view-in-github",
        "colab_type": "text"
      },
      "source": [
        "<a href=\"https://colab.research.google.com/github/ARidwanW/lab-datascience-ibm/blob/main/Lab_Exploring_Data_using_IBM_Cloud_Gallery.ipynb\" target=\"_parent\"><img src=\"https://colab.research.google.com/assets/colab-badge.svg\" alt=\"Open In Colab\"/></a>"
      ]
    },
    {
      "cell_type": "markdown",
      "source": [
        "# Finding optimal locations of new stores using Decision Optimization\n",
        "--------------------------"
      ],
      "metadata": {
        "id": "auBra_hJz0bX"
      }
    },
    {
      "cell_type": "markdown",
      "source": [
        "# Step 1: Import the docplex package"
      ],
      "metadata": {
        "id": "tyzAowzqnTXA"
      }
    },
    {
      "cell_type": "code",
      "source": [
        "!pip install docplex"
      ],
      "metadata": {
        "colab": {
          "base_uri": "https://localhost:8080/"
        },
        "id": "z7BDeUbmnYqj",
        "outputId": "6cbf6908-9afb-4e60-ae2c-a4d6c4aed716"
      },
      "execution_count": 4,
      "outputs": [
        {
          "output_type": "stream",
          "name": "stdout",
          "text": [
            "Requirement already satisfied: docplex in /usr/local/lib/python3.10/dist-packages (2.25.236)\n",
            "Requirement already satisfied: six in /usr/local/lib/python3.10/dist-packages (from docplex) (1.16.0)\n"
          ]
        }
      ]
    },
    {
      "cell_type": "code",
      "execution_count": 5,
      "metadata": {
        "id": "sTTCmZGrmzFS"
      },
      "outputs": [],
      "source": [
        "import sys\n",
        "import docplex.mp"
      ]
    },
    {
      "cell_type": "markdown",
      "source": [
        "# Step 2: Model the data\n",
        "\n",
        "- The data for this problem is quite simple: it is composed of the list of public libraries and their geographical locations.\n",
        "- The data is acquired from [Chicago open data](https://data.cityofchicago.org/) as a JSON file, which is in the following format:\n",
        "\n",
        "data\" : [ [ 1, \"13BFA4C7-78CE-4D83-B53D-B57C60B701CF\", 1, 1441918880, \"885709\", 1441918880, \"885709\", null, \"Albany Park\", \"M, W: 10AM-6PM;  TU, TH: 12PM-8PM; F, SA: 9AM-5PM; SU: Closed\", \"Yes\", \"Yes \", \"3401 W. Foster Avenue\", \"CHICAGO\", \"IL\", \"60625\", \"(773) 539-5450\", [ \"http://www.chipublib.org/locations/1/\", null ], [ null, \"41.975456\", \"-87.71409\", null, false ] ]\n",
        "This code snippet represents library \"**3401 W. Foster Avenue**\" located at **41.975456, -87.71409**\n"
      ],
      "metadata": {
        "id": "APqv1fBHnsYe"
      }
    },
    {
      "cell_type": "markdown",
      "source": [
        "# Step 3: Prepare the data"
      ],
      "metadata": {
        "id": "2qILREeds1Ba"
      }
    },
    {
      "cell_type": "code",
      "source": [
        "# from google.colab import files\n",
        "# uploaded = files.upload()"
      ],
      "metadata": {
        "colab": {
          "base_uri": "https://localhost:8080/",
          "height": 110
        },
        "id": "qoCsakmLn6Si",
        "outputId": "6ccb9769-63a6-4b8f-9f7e-8e1062f14f19"
      },
      "execution_count": 7,
      "outputs": [
        {
          "output_type": "display_data",
          "data": {
            "text/plain": [
              "<IPython.core.display.HTML object>"
            ],
            "text/html": [
              "\n",
              "     <input type=\"file\" id=\"files-f166cb8f-8eee-42af-9466-4784e63182a5\" name=\"files[]\" multiple disabled\n",
              "        style=\"border:none\" />\n",
              "     <output id=\"result-f166cb8f-8eee-42af-9466-4784e63182a5\">\n",
              "      Upload widget is only available when the cell has been executed in the\n",
              "      current browser session. Please rerun this cell to enable.\n",
              "      </output>\n",
              "      <script>// Copyright 2017 Google LLC\n",
              "//\n",
              "// Licensed under the Apache License, Version 2.0 (the \"License\");\n",
              "// you may not use this file except in compliance with the License.\n",
              "// You may obtain a copy of the License at\n",
              "//\n",
              "//      http://www.apache.org/licenses/LICENSE-2.0\n",
              "//\n",
              "// Unless required by applicable law or agreed to in writing, software\n",
              "// distributed under the License is distributed on an \"AS IS\" BASIS,\n",
              "// WITHOUT WARRANTIES OR CONDITIONS OF ANY KIND, either express or implied.\n",
              "// See the License for the specific language governing permissions and\n",
              "// limitations under the License.\n",
              "\n",
              "/**\n",
              " * @fileoverview Helpers for google.colab Python module.\n",
              " */\n",
              "(function(scope) {\n",
              "function span(text, styleAttributes = {}) {\n",
              "  const element = document.createElement('span');\n",
              "  element.textContent = text;\n",
              "  for (const key of Object.keys(styleAttributes)) {\n",
              "    element.style[key] = styleAttributes[key];\n",
              "  }\n",
              "  return element;\n",
              "}\n",
              "\n",
              "// Max number of bytes which will be uploaded at a time.\n",
              "const MAX_PAYLOAD_SIZE = 100 * 1024;\n",
              "\n",
              "function _uploadFiles(inputId, outputId) {\n",
              "  const steps = uploadFilesStep(inputId, outputId);\n",
              "  const outputElement = document.getElementById(outputId);\n",
              "  // Cache steps on the outputElement to make it available for the next call\n",
              "  // to uploadFilesContinue from Python.\n",
              "  outputElement.steps = steps;\n",
              "\n",
              "  return _uploadFilesContinue(outputId);\n",
              "}\n",
              "\n",
              "// This is roughly an async generator (not supported in the browser yet),\n",
              "// where there are multiple asynchronous steps and the Python side is going\n",
              "// to poll for completion of each step.\n",
              "// This uses a Promise to block the python side on completion of each step,\n",
              "// then passes the result of the previous step as the input to the next step.\n",
              "function _uploadFilesContinue(outputId) {\n",
              "  const outputElement = document.getElementById(outputId);\n",
              "  const steps = outputElement.steps;\n",
              "\n",
              "  const next = steps.next(outputElement.lastPromiseValue);\n",
              "  return Promise.resolve(next.value.promise).then((value) => {\n",
              "    // Cache the last promise value to make it available to the next\n",
              "    // step of the generator.\n",
              "    outputElement.lastPromiseValue = value;\n",
              "    return next.value.response;\n",
              "  });\n",
              "}\n",
              "\n",
              "/**\n",
              " * Generator function which is called between each async step of the upload\n",
              " * process.\n",
              " * @param {string} inputId Element ID of the input file picker element.\n",
              " * @param {string} outputId Element ID of the output display.\n",
              " * @return {!Iterable<!Object>} Iterable of next steps.\n",
              " */\n",
              "function* uploadFilesStep(inputId, outputId) {\n",
              "  const inputElement = document.getElementById(inputId);\n",
              "  inputElement.disabled = false;\n",
              "\n",
              "  const outputElement = document.getElementById(outputId);\n",
              "  outputElement.innerHTML = '';\n",
              "\n",
              "  const pickedPromise = new Promise((resolve) => {\n",
              "    inputElement.addEventListener('change', (e) => {\n",
              "      resolve(e.target.files);\n",
              "    });\n",
              "  });\n",
              "\n",
              "  const cancel = document.createElement('button');\n",
              "  inputElement.parentElement.appendChild(cancel);\n",
              "  cancel.textContent = 'Cancel upload';\n",
              "  const cancelPromise = new Promise((resolve) => {\n",
              "    cancel.onclick = () => {\n",
              "      resolve(null);\n",
              "    };\n",
              "  });\n",
              "\n",
              "  // Wait for the user to pick the files.\n",
              "  const files = yield {\n",
              "    promise: Promise.race([pickedPromise, cancelPromise]),\n",
              "    response: {\n",
              "      action: 'starting',\n",
              "    }\n",
              "  };\n",
              "\n",
              "  cancel.remove();\n",
              "\n",
              "  // Disable the input element since further picks are not allowed.\n",
              "  inputElement.disabled = true;\n",
              "\n",
              "  if (!files) {\n",
              "    return {\n",
              "      response: {\n",
              "        action: 'complete',\n",
              "      }\n",
              "    };\n",
              "  }\n",
              "\n",
              "  for (const file of files) {\n",
              "    const li = document.createElement('li');\n",
              "    li.append(span(file.name, {fontWeight: 'bold'}));\n",
              "    li.append(span(\n",
              "        `(${file.type || 'n/a'}) - ${file.size} bytes, ` +\n",
              "        `last modified: ${\n",
              "            file.lastModifiedDate ? file.lastModifiedDate.toLocaleDateString() :\n",
              "                                    'n/a'} - `));\n",
              "    const percent = span('0% done');\n",
              "    li.appendChild(percent);\n",
              "\n",
              "    outputElement.appendChild(li);\n",
              "\n",
              "    const fileDataPromise = new Promise((resolve) => {\n",
              "      const reader = new FileReader();\n",
              "      reader.onload = (e) => {\n",
              "        resolve(e.target.result);\n",
              "      };\n",
              "      reader.readAsArrayBuffer(file);\n",
              "    });\n",
              "    // Wait for the data to be ready.\n",
              "    let fileData = yield {\n",
              "      promise: fileDataPromise,\n",
              "      response: {\n",
              "        action: 'continue',\n",
              "      }\n",
              "    };\n",
              "\n",
              "    // Use a chunked sending to avoid message size limits. See b/62115660.\n",
              "    let position = 0;\n",
              "    do {\n",
              "      const length = Math.min(fileData.byteLength - position, MAX_PAYLOAD_SIZE);\n",
              "      const chunk = new Uint8Array(fileData, position, length);\n",
              "      position += length;\n",
              "\n",
              "      const base64 = btoa(String.fromCharCode.apply(null, chunk));\n",
              "      yield {\n",
              "        response: {\n",
              "          action: 'append',\n",
              "          file: file.name,\n",
              "          data: base64,\n",
              "        },\n",
              "      };\n",
              "\n",
              "      let percentDone = fileData.byteLength === 0 ?\n",
              "          100 :\n",
              "          Math.round((position / fileData.byteLength) * 100);\n",
              "      percent.textContent = `${percentDone}% done`;\n",
              "\n",
              "    } while (position < fileData.byteLength);\n",
              "  }\n",
              "\n",
              "  // All done.\n",
              "  yield {\n",
              "    response: {\n",
              "      action: 'complete',\n",
              "    }\n",
              "  };\n",
              "}\n",
              "\n",
              "scope.google = scope.google || {};\n",
              "scope.google.colab = scope.google.colab || {};\n",
              "scope.google.colab._files = {\n",
              "  _uploadFiles,\n",
              "  _uploadFilesContinue,\n",
              "};\n",
              "})(self);\n",
              "</script> "
            ]
          },
          "metadata": {}
        },
        {
          "output_type": "stream",
          "name": "stdout",
          "text": [
            "Saving Libraries_-_Locations___Contact_Information__and_Usual_Hours_of_Operation.csv to Libraries_-_Locations___Contact_Information__and_Usual_Hours_of_Operation.csv\n"
          ]
        }
      ]
    },
    {
      "cell_type": "code",
      "source": [
        "# Store logitude, latitude and street crossing name of each public library location\n",
        "class XPoint(object):\n",
        "  def __init__(self, x, y):\n",
        "    self.x = x\n",
        "    self.y = y\n",
        "\n",
        "  def __str__(self):\n",
        "    return \"P(%g_%g)\" % (self.x, self.y)\n",
        "\n",
        "class NamedPoint(XPoint):\n",
        "  def __init__(self, name, x, y):\n",
        "    XPoint.__init__(self, x, y)\n",
        "    self.name = name\n",
        "  def __str__(self):\n",
        "    return self.name"
      ],
      "metadata": {
        "id": "mxE6QFp4rP0Y"
      },
      "execution_count": 8,
      "outputs": []
    },
    {
      "cell_type": "markdown",
      "source": [
        "## Define How to compute the earth distance between 2 points"
      ],
      "metadata": {
        "id": "tnbqQK2Xs57K"
      }
    },
    {
      "cell_type": "code",
      "source": [
        "!pip install geopy"
      ],
      "metadata": {
        "colab": {
          "base_uri": "https://localhost:8080/"
        },
        "id": "nYTy_9e5sIrg",
        "outputId": "65e32d5c-2ca1-4927-bdb5-fcdaf22583ba"
      },
      "execution_count": 9,
      "outputs": [
        {
          "output_type": "stream",
          "name": "stdout",
          "text": [
            "Requirement already satisfied: geopy in /usr/local/lib/python3.10/dist-packages (2.3.0)\n",
            "Requirement already satisfied: geographiclib<3,>=1.52 in /usr/local/lib/python3.10/dist-packages (from geopy) (2.0)\n"
          ]
        }
      ]
    },
    {
      "cell_type": "code",
      "source": [
        "try:\n",
        "  import geopy.distance\n",
        "except:\n",
        "  if hasattr(sys, 'real_prefix'):\n",
        "    #we are in a virtual env.\n",
        "    !pip install geopy\n",
        "  else:\n",
        "    !pip install --user geopy\n"
      ],
      "metadata": {
        "id": "jlvBrTI-sOMg"
      },
      "execution_count": 10,
      "outputs": []
    },
    {
      "cell_type": "code",
      "source": [
        "# Simple distnace computation between 2 location\n",
        "from geopy.distance import great_circle\n",
        "\n",
        "def get_distance(p1, p2):\n",
        "  return great_circle((p1.y, p1.x), (p2.y, p2.x)).miles"
      ],
      "metadata": {
        "id": "9456Vrs2sfxZ"
      },
      "execution_count": 11,
      "outputs": []
    },
    {
      "cell_type": "markdown",
      "source": [
        "## Declare the list of libraries"
      ],
      "metadata": {
        "id": "hjq7Z1iItASu"
      }
    },
    {
      "cell_type": "code",
      "source": [
        "from IPython.terminal.ipapp import TerminalIPythonApp\n",
        "def build_libraries_from_url(url, name_pos, lat_long_pos):\n",
        "  import requests\n",
        "  import json\n",
        "\n",
        "  r = requests.get(url)\n",
        "  myjson = json.loads(r.text, parse_constant='utf-8')\n",
        "  myjson = myjson['data']\n",
        "\n",
        "  libraries = []\n",
        "  k = 1\n",
        "  for location in myjson:\n",
        "    uname = location[name_pos]\n",
        "    try:\n",
        "      latitude = float(location[lat_long_pos][1])\n",
        "      longitude = float(location[lat_long_pos][2])\n",
        "    except TypeError:\n",
        "      latitude = longitude = None\n",
        "\n",
        "    try:\n",
        "      name = str(uname)\n",
        "    except:\n",
        "      name = \"???\"\n",
        "\n",
        "    name = \"P_%s_%d\" % (name, k)\n",
        "    if latitude and longitude:\n",
        "      cp = NamedPoint(name, longitude, latitude)\n",
        "      libraries.append(cp)\n",
        "      k += 1\n",
        "  return libraries"
      ],
      "metadata": {
        "id": "an0BXVIptD4_"
      },
      "execution_count": 12,
      "outputs": []
    },
    {
      "cell_type": "code",
      "source": [
        "libraries = build_libraries_from_url('https://data.cityofchicago.org/api/views/x8fc-8rcq/rows.json?accessType=DOWNLOAD',\n",
        "                                     name_pos=10,\n",
        "                                     lat_long_pos=16)"
      ],
      "metadata": {
        "id": "vTwx_bMiy_M1"
      },
      "execution_count": 13,
      "outputs": []
    },
    {
      "cell_type": "code",
      "source": [
        "print(\"There are %d public libraries in Chicago\" % (len(libraries)))"
      ],
      "metadata": {
        "colab": {
          "base_uri": "https://localhost:8080/"
        },
        "id": "GYU7ZNsCzfo1",
        "outputId": "202064fb-7d64-4c09-e6ec-a17de8f9af36"
      },
      "execution_count": 14,
      "outputs": [
        {
          "output_type": "stream",
          "name": "stdout",
          "text": [
            "There are 81 public libraries in Chicago\n"
          ]
        }
      ]
    },
    {
      "cell_type": "code",
      "source": [
        "for library in libraries:\n",
        "  print(f\"Library Name: {library.name}\")\n",
        "  print(f\"Long: {library.x}\")\n",
        "  print(f\"Lat: {library.y}\")"
      ],
      "metadata": {
        "colab": {
          "base_uri": "https://localhost:8080/"
        },
        "id": "-cJTpyXz32F0",
        "outputId": "64604729-3841-4dc5-c62d-1c4e62e75766"
      },
      "execution_count": 18,
      "outputs": [
        {
          "output_type": "stream",
          "name": "stdout",
          "text": [
            "Library Name: P_3710 E. 106th St._1\n",
            "Long: -87.61428978448026\n",
            "Lat: 41.70283443594318\n",
            "Library Name: P_3401 W. Foster Ave._2\n",
            "Long: -87.71361314512697\n",
            "Lat: 41.97557881655979\n",
            "Library Name: P_8148 S. Stony Island Ave._3\n",
            "Long: -87.5860053710736\n",
            "Lat: 41.746393038286826\n",
            "Library Name: P_1350 W. 89th St._4\n",
            "Long: -87.65772892721816\n",
            "Lat: 41.73244482025524\n",
            "Library Name: P_163 E. Pearson St._5\n",
            "Long: -87.62337776811282\n",
            "Lat: 41.897484072390675\n",
            "Library Name: P_1336 W. Taylor St._6\n",
            "Long: -87.66072612668584\n",
            "Lat: 41.86946341218242\n",
            "Library Name: P_5331 W. Devon Ave._7\n",
            "Long: -87.76211751799003\n",
            "Lat: 41.997213372156295\n",
            "Library Name: P_6151 S. Normal Blvd._8\n",
            "Long: -87.63738794358196\n",
            "Lat: 41.78202569697298\n",
            "Library Name: P_6000 N. Broadway St._9\n",
            "Long: -87.660442745415\n",
            "Lat: 41.99095923823291\n",
            "Library Name: P_5724 W. North Ave._10\n",
            "Long: -87.76898326931509\n",
            "Lat: 41.909444834238485\n",
            "Library Name: P_642 W. 43rd St._11\n",
            "Long: -87.64256827550598\n",
            "Lat: 41.81634394084193\n",
            "Library Name: P_3400 S. Halsted St._12\n",
            "Long: -87.64629980794813\n",
            "Lat: 41.8327976771251\n",
            "Library Name: P_6 S. Hoyne Ave._13\n",
            "Long: -87.67923504553734\n",
            "Lat: 41.88108555559726\n",
            "Library Name: P_5108 W. Belmont Ave._14\n",
            "Long: -87.75467117455794\n",
            "Lat: 41.93883597361448\n",
            "Library Name: P_415 East 79th St._15\n",
            "Long: -87.61495065361933\n",
            "Lat: 41.7510184591363\n",
            "Library Name: P_1000 E. 73rd St._16\n",
            "Long: -87.60051216643727\n",
            "Lat: 41.76239541819689\n",
            "Library Name: P_4101 W. 79th St._17\n",
            "Long: -87.72440869132882\n",
            "Lat: 41.74928543110801\n",
            "Library Name: P_955 E. 131st Street_18\n",
            "Long: -87.59883829075173\n",
            "Lat: 41.65719847558056\n",
            "Library Name: P_4020 W. 63rd St._19\n",
            "Long: -87.72374295317714\n",
            "Lat: 41.77875389246921\n",
            "Library Name: P_2111 W. 47th St._20\n",
            "Long: -87.67756963874196\n",
            "Lat: 41.808384423666354\n",
            "Library Name: P_6907 N. Clark St._21\n",
            "Long: -87.67330813329413\n",
            "Lat: 42.00682227244734\n",
            "Library Name: P_6348 S. Archer Ave._22\n",
            "Long: -87.78013459023622\n",
            "Lat: 41.792915800399726\n",
            "Library Name: P_3436 S. King Dr._23\n",
            "Long: -87.61747228078738\n",
            "Lat: 41.83175130060517\n",
            "Library Name: P_11071 S. Hoyne Ave._24\n",
            "Long: -87.6739093032301\n",
            "Lat: 41.69198346617567\n",
            "Library Name: P_733 N. Kedzie Ave._25\n",
            "Long: -87.7063841773407\n",
            "Lat: 41.894726658545295\n",
            "Library Name: P_1605 N. Troy St._26\n",
            "Long: -87.70551941016132\n",
            "Lat: 41.910332307504966\n",
            "Library Name: P_4455 N. Lincoln Ave._27\n",
            "Long: -87.68469465366664\n",
            "Lat: 41.962966859427524\n",
            "Library Name: P_4904 S. Lake Park Ave._28\n",
            "Long: -87.58923748614112\n",
            "Lat: 41.80549277198318\n",
            "Library Name: P_4300 W. North Ave._29\n",
            "Long: -87.73376822625004\n",
            "Lat: 41.90989766464456\n",
            "Library Name: P_1625 W. Chicago Ave._30\n",
            "Long: -87.66829305460979\n",
            "Lat: 41.89594730478282\n",
            "Library Name: P_5630 N. Lincoln Ave._31\n",
            "Long: -87.69631576617253\n",
            "Lat: 41.98369797603738\n",
            "Library Name: P_1150 W. Fullerton Ave._32\n",
            "Long: -87.65806218385674\n",
            "Lat: 41.92540663614013\n",
            "Library Name: P_1745 W. 63rd St._33\n",
            "Long: -87.66843344429459\n",
            "Lat: 41.77928203936906\n",
            "Library Name: P_5055 S. Archer Ave._34\n",
            "Long: -87.72648385568911\n",
            "Lat: 41.80110836194246\n",
            "Library Name: P_3048 E. 130th St._35\n",
            "Long: -87.54881978393514\n",
            "Lat: 41.65927659861025\n",
            "Library Name: P_4024 N. Elston Ave._36\n",
            "Long: -87.7200155607629\n",
            "Lat: 41.95413885986087\n",
            "Library Name: P_1805 S. Loomis St._37\n",
            "Long: -87.66116376475367\n",
            "Lat: 41.857601233304614\n",
            "Library Name: P_2505 E. 73rd St._38\n",
            "Long: -87.56387694448408\n",
            "Lat: 41.76254141905116\n",
            "Library Name: P_2100 S. Wentworth Ave._39\n",
            "Long: -87.63195792246246\n",
            "Lat: 41.85412074173438\n",
            "Library Name: P_3353 W. 13th St._40\n",
            "Long: -87.71017465670012\n",
            "Lat: 41.86441239309047\n",
            "Library Name: P_3030 W. Fullerton Ave._41\n",
            "Long: -87.7035190503226\n",
            "Lat: 41.924860376546214\n",
            "Library Name: P_6083 N. Northwest Hwy._42\n",
            "Long: -87.79820642998901\n",
            "Lat: 41.99199760467718\n",
            "Library Name: P_6871 W. Belden Ave._43\n",
            "Long: -87.79791005523576\n",
            "Lat: 41.9210332601157\n",
            "Library Name: P_3104 N. Narragansett Ave._44\n",
            "Long: -87.78602401236114\n",
            "Lat: 41.9366521886413\n",
            "Library Name: P_1701 N. Milwaukee Ave._45\n",
            "Long: -87.68029967133904\n",
            "Lat: 41.91235487836141\n",
            "Library Name: P_6800 N. Western Ave._46\n",
            "Long: -87.69021903022175\n",
            "Lat: 42.00507612272344\n",
            "Library Name: P_644 W. Belmont Ave._47\n",
            "Long: -87.64602857926714\n",
            "Lat: 41.940131637508564\n",
            "Library Name: P_830 W. 119th St._48\n",
            "Long: -87.6431683153105\n",
            "Lat: 41.67790647382097\n",
            "Library Name: P_1962 W. 95th St._49\n",
            "Long: -87.67214620967468\n",
            "Lat: 41.72118978926962\n",
            "Library Name: P_115 S. Pulaski Rd._50\n",
            "Long: -87.72547641315548\n",
            "Lat: 41.87934542742433\n",
            "Library Name: P_7506 S. Racine Ave._51\n",
            "Long: -87.6540643783153\n",
            "Lat: 41.757343880012456\n",
            "Library Name: P_5615 W. Race Ave._52\n",
            "Long: -87.7658203582574\n",
            "Lat: 41.88917312206642\n",
            "Library Name: P_8530 S. Kedzie Ave._53\n",
            "Long: -87.70221598421591\n",
            "Lat: 41.73795704970435\n",
            "Library Name: P_5363 W. Lawrence Ave._54\n",
            "Long: -87.76176748220928\n",
            "Lat: 41.96750826032374\n",
            "Library Name: P_1915 W. 35th St._55\n",
            "Long: -87.67349098124289\n",
            "Lat: 41.83030074817219\n",
            "Library Name: P_9055 S. Houston Ave._56\n",
            "Long: -87.54972658730712\n",
            "Lat: 41.73029771500594\n",
            "Library Name: P_6423 W. 63rd Pl._57\n",
            "Long: -87.78218757614671\n",
            "Lat: 41.776652677565934\n",
            "Library Name: P_11010 S. Kedzie Ave._58\n",
            "Long: -87.70102477600602\n",
            "Lat: 41.693015814018004\n",
            "Library Name: P_2708 S. Pulaski Rd._59\n",
            "Long: -87.72463965526215\n",
            "Lat: 41.842086096760674\n",
            "Library Name: P_6120 S. Kedzie Ave._60\n",
            "Long: -87.7033680880769\n",
            "Lat: 41.7819767986214\n",
            "Library Name: P_400 S. State St._61\n",
            "Long: -87.62779697013237\n",
            "Lat: 41.87686252958797\n",
            "Library Name: P_4314 S. Archer Ave._62\n",
            "Long: -87.70273371160454\n",
            "Lat: 41.81516027827089\n",
            "Library Name: P_4856 W. Chicago Ave._63\n",
            "Long: -87.74806072822989\n",
            "Lat: 41.8950961032908\n",
            "Library Name: P_2311 S. Kedzie Ave._64\n",
            "Long: -87.70504118331108\n",
            "Lat: 41.84959155873184\n",
            "Library Name: P_1659 W. Melrose St._65\n",
            "Long: -87.67102536129381\n",
            "Lat: 41.94046531149621\n",
            "Library Name: P_2807 W. 55th St._66\n",
            "Long: -87.69413004003073\n",
            "Lat: 41.79357525220078\n",
            "Library Name: P_7454 W. Balmoral Ave._67\n",
            "Long: -87.81420029973704\n",
            "Lat: 41.978098111742476\n",
            "Library Name: P_7455 W. Cornelia Ave._68\n",
            "Long: -87.81395164414246\n",
            "Lat: 41.94319949471892\n",
            "Library Name: P_1226 W. Ainslie St._69\n",
            "Long: -87.66095347964183\n",
            "Lat: 41.97155143669217\n",
            "Library Name: P_122 N. Aberdeen St._70\n",
            "Long: -87.6545650515331\n",
            "Lat: 41.8837105009142\n",
            "Library Name: P_11001 S. Indiana Ave._71\n",
            "Long: -87.6181414059763\n",
            "Lat: 41.69436481773882\n",
            "Library Name: P_2401 E. 100th St._72\n",
            "Long: -87.56573413765888\n",
            "Lat: 41.71340053892868\n",
            "Library Name: P_4801 S. Michigan Ave._73\n",
            "Long: -87.62263720177272\n",
            "Lat: 41.807377846345496\n",
            "Library Name: P_310 W. Division St._74\n",
            "Long: -87.63660775555267\n",
            "Lat: 41.90393142178499\n",
            "Library Name: P_731 E. 63rd St._75\n",
            "Long: -87.60712228979007\n",
            "Lat: 41.78028267185317\n",
            "Library Name: P_6100 W. Irving Park Rd._76\n",
            "Long: -87.77928489355646\n",
            "Lat: 41.95312267684315\n",
            "Library Name: P_9525 S. Halsted St._77\n",
            "Long: -87.64304817213312\n",
            "Lat: 41.720694885749005\n",
            "Library Name: P_4400 W. Lawrence Ave._78\n",
            "Long: -87.737968778247\n",
            "Lat: 41.968242773953044\n",
            "Library Name: P_3647 S. State St._79\n",
            "Long: -87.6263495444489\n",
            "Lat: 41.82824306445502\n",
            "Library Name: P_929 W. Buena Ave._80\n",
            "Long: -87.65424744448335\n",
            "Lat: 41.95832305807637\n",
            "Library Name: P_5440 S. Racine Ave._81\n",
            "Long: -87.65502837616037\n",
            "Lat: 41.79476901885989\n"
          ]
        }
      ]
    },
    {
      "cell_type": "markdown",
      "source": [
        "## Define number of shops to open"
      ],
      "metadata": {
        "id": "gEdR_LoJ6KrP"
      }
    },
    {
      "cell_type": "code",
      "source": [
        "nb_shops = 5\n",
        "print(\"We would like to open %d coffee shops\" % nb_shops)"
      ],
      "metadata": {
        "colab": {
          "base_uri": "https://localhost:8080/"
        },
        "id": "3Fnr-WWM4ESp",
        "outputId": "ba0d3a8b-4178-4ef1-8890-0fc73296c5f5"
      },
      "execution_count": 19,
      "outputs": [
        {
          "output_type": "stream",
          "name": "stdout",
          "text": [
            "We would like to open 5 coffee shops\n"
          ]
        }
      ]
    },
    {
      "cell_type": "markdown",
      "source": [
        "## Validate the data by displaying them"
      ],
      "metadata": {
        "id": "8iBL-yGA6Ux3"
      }
    },
    {
      "cell_type": "code",
      "source": [
        "try:\n",
        "  import folium\n",
        "except:\n",
        "  if hasattr(sys, 'real_prefix'):\n",
        "    #we are in a virtual env.\n",
        "    !pip install folium\n",
        "  else:\n",
        "    !pip install folium\n",
        ""
      ],
      "metadata": {
        "id": "fU9hmwFQ6cTb"
      },
      "execution_count": 20,
      "outputs": []
    },
    {
      "cell_type": "code",
      "source": [
        "import folium\n",
        "map_osm = folium.Map(location=[41.878, -87.629], zoom_start=11)\n",
        "for library in libraries:\n",
        "  lt = library.y\n",
        "  lg = library.x\n",
        "  folium.Marker([lt, lg]).add_to(map_osm)\n",
        "\n",
        "map_osm"
      ],
      "metadata": {
        "colab": {
          "base_uri": "https://localhost:8080/",
          "height": 467
        },
        "id": "A4bOSGuP6qW7",
        "outputId": "fe359d37-26cf-4581-e16d-aa3a4ee03d81"
      },
      "execution_count": 22,
      "outputs": [
        {
          "output_type": "execute_result",
          "data": {
            "text/plain": [
              "<folium.folium.Map at 0x7a931ebf68c0>"
            ],
            "text/html": [
              "<div style=\"width:100%;\"><div style=\"position:relative;width:100%;height:0;padding-bottom:60%;\"><span style=\"color:#565656\">Make this Notebook Trusted to load map: File -> Trust Notebook</span><iframe srcdoc=\"&lt;!DOCTYPE html&gt;\n",
              "&lt;html&gt;\n",
              "&lt;head&gt;\n",
              "    \n",
              "    &lt;meta http-equiv=&quot;content-type&quot; content=&quot;text/html; charset=UTF-8&quot; /&gt;\n",
              "    \n",
              "        &lt;script&gt;\n",
              "            L_NO_TOUCH = false;\n",
              "            L_DISABLE_3D = false;\n",
              "        &lt;/script&gt;\n",
              "    \n",
              "    &lt;style&gt;html, body {width: 100%;height: 100%;margin: 0;padding: 0;}&lt;/style&gt;\n",
              "    &lt;style&gt;#map {position:absolute;top:0;bottom:0;right:0;left:0;}&lt;/style&gt;\n",
              "    &lt;script src=&quot;https://cdn.jsdelivr.net/npm/leaflet@1.9.3/dist/leaflet.js&quot;&gt;&lt;/script&gt;\n",
              "    &lt;script src=&quot;https://code.jquery.com/jquery-1.12.4.min.js&quot;&gt;&lt;/script&gt;\n",
              "    &lt;script src=&quot;https://cdn.jsdelivr.net/npm/bootstrap@5.2.2/dist/js/bootstrap.bundle.min.js&quot;&gt;&lt;/script&gt;\n",
              "    &lt;script src=&quot;https://cdnjs.cloudflare.com/ajax/libs/Leaflet.awesome-markers/2.0.2/leaflet.awesome-markers.js&quot;&gt;&lt;/script&gt;\n",
              "    &lt;link rel=&quot;stylesheet&quot; href=&quot;https://cdn.jsdelivr.net/npm/leaflet@1.9.3/dist/leaflet.css&quot;/&gt;\n",
              "    &lt;link rel=&quot;stylesheet&quot; href=&quot;https://cdn.jsdelivr.net/npm/bootstrap@5.2.2/dist/css/bootstrap.min.css&quot;/&gt;\n",
              "    &lt;link rel=&quot;stylesheet&quot; href=&quot;https://netdna.bootstrapcdn.com/bootstrap/3.0.0/css/bootstrap.min.css&quot;/&gt;\n",
              "    &lt;link rel=&quot;stylesheet&quot; href=&quot;https://cdn.jsdelivr.net/npm/@fortawesome/fontawesome-free@6.2.0/css/all.min.css&quot;/&gt;\n",
              "    &lt;link rel=&quot;stylesheet&quot; href=&quot;https://cdnjs.cloudflare.com/ajax/libs/Leaflet.awesome-markers/2.0.2/leaflet.awesome-markers.css&quot;/&gt;\n",
              "    &lt;link rel=&quot;stylesheet&quot; href=&quot;https://cdn.jsdelivr.net/gh/python-visualization/folium/folium/templates/leaflet.awesome.rotate.min.css&quot;/&gt;\n",
              "    \n",
              "            &lt;meta name=&quot;viewport&quot; content=&quot;width=device-width,\n",
              "                initial-scale=1.0, maximum-scale=1.0, user-scalable=no&quot; /&gt;\n",
              "            &lt;style&gt;\n",
              "                #map_27c177142a12670efb89ae49011ab957 {\n",
              "                    position: relative;\n",
              "                    width: 100.0%;\n",
              "                    height: 100.0%;\n",
              "                    left: 0.0%;\n",
              "                    top: 0.0%;\n",
              "                }\n",
              "                .leaflet-container { font-size: 1rem; }\n",
              "            &lt;/style&gt;\n",
              "        \n",
              "&lt;/head&gt;\n",
              "&lt;body&gt;\n",
              "    \n",
              "    \n",
              "            &lt;div class=&quot;folium-map&quot; id=&quot;map_27c177142a12670efb89ae49011ab957&quot; &gt;&lt;/div&gt;\n",
              "        \n",
              "&lt;/body&gt;\n",
              "&lt;script&gt;\n",
              "    \n",
              "    \n",
              "            var map_27c177142a12670efb89ae49011ab957 = L.map(\n",
              "                &quot;map_27c177142a12670efb89ae49011ab957&quot;,\n",
              "                {\n",
              "                    center: [41.878, -87.629],\n",
              "                    crs: L.CRS.EPSG3857,\n",
              "                    zoom: 11,\n",
              "                    zoomControl: true,\n",
              "                    preferCanvas: false,\n",
              "                }\n",
              "            );\n",
              "\n",
              "            \n",
              "\n",
              "        \n",
              "    \n",
              "            var tile_layer_f219b902254e8b90bf919d0abdad2adb = L.tileLayer(\n",
              "                &quot;https://{s}.tile.openstreetmap.org/{z}/{x}/{y}.png&quot;,\n",
              "                {&quot;attribution&quot;: &quot;Data by \\u0026copy; \\u003ca target=\\&quot;_blank\\&quot; href=\\&quot;http://openstreetmap.org\\&quot;\\u003eOpenStreetMap\\u003c/a\\u003e, under \\u003ca target=\\&quot;_blank\\&quot; href=\\&quot;http://www.openstreetmap.org/copyright\\&quot;\\u003eODbL\\u003c/a\\u003e.&quot;, &quot;detectRetina&quot;: false, &quot;maxNativeZoom&quot;: 18, &quot;maxZoom&quot;: 18, &quot;minZoom&quot;: 0, &quot;noWrap&quot;: false, &quot;opacity&quot;: 1, &quot;subdomains&quot;: &quot;abc&quot;, &quot;tms&quot;: false}\n",
              "            ).addTo(map_27c177142a12670efb89ae49011ab957);\n",
              "        \n",
              "    \n",
              "            var marker_3e4c216fa7e61c268eedccfc5110645e = L.marker(\n",
              "                [41.70283443594318, -87.61428978448026],\n",
              "                {}\n",
              "            ).addTo(map_27c177142a12670efb89ae49011ab957);\n",
              "        \n",
              "    \n",
              "            var marker_40844805c8bb1dd1151c9489430d0a41 = L.marker(\n",
              "                [41.97557881655979, -87.71361314512697],\n",
              "                {}\n",
              "            ).addTo(map_27c177142a12670efb89ae49011ab957);\n",
              "        \n",
              "    \n",
              "            var marker_d29ea6d3746875d13bec266dc2286e7b = L.marker(\n",
              "                [41.746393038286826, -87.5860053710736],\n",
              "                {}\n",
              "            ).addTo(map_27c177142a12670efb89ae49011ab957);\n",
              "        \n",
              "    \n",
              "            var marker_107ebe5ab964953095e90da341d84066 = L.marker(\n",
              "                [41.73244482025524, -87.65772892721816],\n",
              "                {}\n",
              "            ).addTo(map_27c177142a12670efb89ae49011ab957);\n",
              "        \n",
              "    \n",
              "            var marker_64aabba2ab6794c718de694058865365 = L.marker(\n",
              "                [41.897484072390675, -87.62337776811282],\n",
              "                {}\n",
              "            ).addTo(map_27c177142a12670efb89ae49011ab957);\n",
              "        \n",
              "    \n",
              "            var marker_15b74ca58aec93ed0fe027a30a7dff57 = L.marker(\n",
              "                [41.86946341218242, -87.66072612668584],\n",
              "                {}\n",
              "            ).addTo(map_27c177142a12670efb89ae49011ab957);\n",
              "        \n",
              "    \n",
              "            var marker_9a39636941ad922065601f5f17ec775b = L.marker(\n",
              "                [41.997213372156295, -87.76211751799003],\n",
              "                {}\n",
              "            ).addTo(map_27c177142a12670efb89ae49011ab957);\n",
              "        \n",
              "    \n",
              "            var marker_e4db55bf7548b97d86335349acfeaaa7 = L.marker(\n",
              "                [41.78202569697298, -87.63738794358196],\n",
              "                {}\n",
              "            ).addTo(map_27c177142a12670efb89ae49011ab957);\n",
              "        \n",
              "    \n",
              "            var marker_3a32220f4be6a8dfeb699691afbbca9d = L.marker(\n",
              "                [41.99095923823291, -87.660442745415],\n",
              "                {}\n",
              "            ).addTo(map_27c177142a12670efb89ae49011ab957);\n",
              "        \n",
              "    \n",
              "            var marker_6527cbc5e673e73777b226e46286aeaf = L.marker(\n",
              "                [41.909444834238485, -87.76898326931509],\n",
              "                {}\n",
              "            ).addTo(map_27c177142a12670efb89ae49011ab957);\n",
              "        \n",
              "    \n",
              "            var marker_9eb1d77794036f80054fd45d1704a117 = L.marker(\n",
              "                [41.81634394084193, -87.64256827550598],\n",
              "                {}\n",
              "            ).addTo(map_27c177142a12670efb89ae49011ab957);\n",
              "        \n",
              "    \n",
              "            var marker_a8f84006a2ee15d7fdc6d3de8124e0c2 = L.marker(\n",
              "                [41.8327976771251, -87.64629980794813],\n",
              "                {}\n",
              "            ).addTo(map_27c177142a12670efb89ae49011ab957);\n",
              "        \n",
              "    \n",
              "            var marker_4fce7e47cc89962c96f3eac6c37f8632 = L.marker(\n",
              "                [41.88108555559726, -87.67923504553734],\n",
              "                {}\n",
              "            ).addTo(map_27c177142a12670efb89ae49011ab957);\n",
              "        \n",
              "    \n",
              "            var marker_45430bac7d1859541d6579881138ab9c = L.marker(\n",
              "                [41.93883597361448, -87.75467117455794],\n",
              "                {}\n",
              "            ).addTo(map_27c177142a12670efb89ae49011ab957);\n",
              "        \n",
              "    \n",
              "            var marker_b35900b6f3ab7e9bd5d559e439c21ff9 = L.marker(\n",
              "                [41.7510184591363, -87.61495065361933],\n",
              "                {}\n",
              "            ).addTo(map_27c177142a12670efb89ae49011ab957);\n",
              "        \n",
              "    \n",
              "            var marker_1c9d4b28d8676d6fb4a5c3b26f2cb787 = L.marker(\n",
              "                [41.76239541819689, -87.60051216643727],\n",
              "                {}\n",
              "            ).addTo(map_27c177142a12670efb89ae49011ab957);\n",
              "        \n",
              "    \n",
              "            var marker_aff2676217b99ca59afd63a3d45498ca = L.marker(\n",
              "                [41.74928543110801, -87.72440869132882],\n",
              "                {}\n",
              "            ).addTo(map_27c177142a12670efb89ae49011ab957);\n",
              "        \n",
              "    \n",
              "            var marker_a4169406968d56a32703254acb64deeb = L.marker(\n",
              "                [41.65719847558056, -87.59883829075173],\n",
              "                {}\n",
              "            ).addTo(map_27c177142a12670efb89ae49011ab957);\n",
              "        \n",
              "    \n",
              "            var marker_ba76d5394c7289ce3a16aa3ef73d8809 = L.marker(\n",
              "                [41.77875389246921, -87.72374295317714],\n",
              "                {}\n",
              "            ).addTo(map_27c177142a12670efb89ae49011ab957);\n",
              "        \n",
              "    \n",
              "            var marker_fbd3e398c2ab8a2a5b5f71d98d0c3a30 = L.marker(\n",
              "                [41.808384423666354, -87.67756963874196],\n",
              "                {}\n",
              "            ).addTo(map_27c177142a12670efb89ae49011ab957);\n",
              "        \n",
              "    \n",
              "            var marker_de3b418c066eea89a9f9c0f2b92bf752 = L.marker(\n",
              "                [42.00682227244734, -87.67330813329413],\n",
              "                {}\n",
              "            ).addTo(map_27c177142a12670efb89ae49011ab957);\n",
              "        \n",
              "    \n",
              "            var marker_608779e50cdfbb40cc7eed6845c8b30b = L.marker(\n",
              "                [41.792915800399726, -87.78013459023622],\n",
              "                {}\n",
              "            ).addTo(map_27c177142a12670efb89ae49011ab957);\n",
              "        \n",
              "    \n",
              "            var marker_1b35b6b3b05f0674bb3b901f86cd7113 = L.marker(\n",
              "                [41.83175130060517, -87.61747228078738],\n",
              "                {}\n",
              "            ).addTo(map_27c177142a12670efb89ae49011ab957);\n",
              "        \n",
              "    \n",
              "            var marker_5d87564851b5664b55efa52c52c2c760 = L.marker(\n",
              "                [41.69198346617567, -87.6739093032301],\n",
              "                {}\n",
              "            ).addTo(map_27c177142a12670efb89ae49011ab957);\n",
              "        \n",
              "    \n",
              "            var marker_0f78005d56e37005b734ba6d7f735c4e = L.marker(\n",
              "                [41.894726658545295, -87.7063841773407],\n",
              "                {}\n",
              "            ).addTo(map_27c177142a12670efb89ae49011ab957);\n",
              "        \n",
              "    \n",
              "            var marker_1369ea24c8217230be123034423d4cd6 = L.marker(\n",
              "                [41.910332307504966, -87.70551941016132],\n",
              "                {}\n",
              "            ).addTo(map_27c177142a12670efb89ae49011ab957);\n",
              "        \n",
              "    \n",
              "            var marker_9512ccefc93e98f716446453377d00ae = L.marker(\n",
              "                [41.962966859427524, -87.68469465366664],\n",
              "                {}\n",
              "            ).addTo(map_27c177142a12670efb89ae49011ab957);\n",
              "        \n",
              "    \n",
              "            var marker_197c140709e3f723bc60b193b7af53ae = L.marker(\n",
              "                [41.80549277198318, -87.58923748614112],\n",
              "                {}\n",
              "            ).addTo(map_27c177142a12670efb89ae49011ab957);\n",
              "        \n",
              "    \n",
              "            var marker_6dd0b066cccef2d40e1a043ff0a9a4a3 = L.marker(\n",
              "                [41.90989766464456, -87.73376822625004],\n",
              "                {}\n",
              "            ).addTo(map_27c177142a12670efb89ae49011ab957);\n",
              "        \n",
              "    \n",
              "            var marker_a44cc65c3aa9f98bd97b3ad718a715cd = L.marker(\n",
              "                [41.89594730478282, -87.66829305460979],\n",
              "                {}\n",
              "            ).addTo(map_27c177142a12670efb89ae49011ab957);\n",
              "        \n",
              "    \n",
              "            var marker_0fc7002764db09bd80decb1fc5c84f7c = L.marker(\n",
              "                [41.98369797603738, -87.69631576617253],\n",
              "                {}\n",
              "            ).addTo(map_27c177142a12670efb89ae49011ab957);\n",
              "        \n",
              "    \n",
              "            var marker_8511a025991d332c2e6ce965a867acf8 = L.marker(\n",
              "                [41.92540663614013, -87.65806218385674],\n",
              "                {}\n",
              "            ).addTo(map_27c177142a12670efb89ae49011ab957);\n",
              "        \n",
              "    \n",
              "            var marker_c1828aee374ab16aee01659182be5921 = L.marker(\n",
              "                [41.77928203936906, -87.66843344429459],\n",
              "                {}\n",
              "            ).addTo(map_27c177142a12670efb89ae49011ab957);\n",
              "        \n",
              "    \n",
              "            var marker_f45b1b009be6a3962cf7fef97bc3dc05 = L.marker(\n",
              "                [41.80110836194246, -87.72648385568911],\n",
              "                {}\n",
              "            ).addTo(map_27c177142a12670efb89ae49011ab957);\n",
              "        \n",
              "    \n",
              "            var marker_2c2c86ba9da2e4750616e54b0c61c58f = L.marker(\n",
              "                [41.65927659861025, -87.54881978393514],\n",
              "                {}\n",
              "            ).addTo(map_27c177142a12670efb89ae49011ab957);\n",
              "        \n",
              "    \n",
              "            var marker_c7ff39f685d0808873179b7fa6aa2b46 = L.marker(\n",
              "                [41.95413885986087, -87.7200155607629],\n",
              "                {}\n",
              "            ).addTo(map_27c177142a12670efb89ae49011ab957);\n",
              "        \n",
              "    \n",
              "            var marker_9557408faea8264b4dfd8cf9efe92693 = L.marker(\n",
              "                [41.857601233304614, -87.66116376475367],\n",
              "                {}\n",
              "            ).addTo(map_27c177142a12670efb89ae49011ab957);\n",
              "        \n",
              "    \n",
              "            var marker_1d3c0a14bbe174b14c349f017fdece79 = L.marker(\n",
              "                [41.76254141905116, -87.56387694448408],\n",
              "                {}\n",
              "            ).addTo(map_27c177142a12670efb89ae49011ab957);\n",
              "        \n",
              "    \n",
              "            var marker_1ea0e100c0d7e2edeb8e8b039c55fd4c = L.marker(\n",
              "                [41.85412074173438, -87.63195792246246],\n",
              "                {}\n",
              "            ).addTo(map_27c177142a12670efb89ae49011ab957);\n",
              "        \n",
              "    \n",
              "            var marker_2ac9038ff6935302388db64505261dad = L.marker(\n",
              "                [41.86441239309047, -87.71017465670012],\n",
              "                {}\n",
              "            ).addTo(map_27c177142a12670efb89ae49011ab957);\n",
              "        \n",
              "    \n",
              "            var marker_c34ff3b7c799974e35b4bc3c8767c5b6 = L.marker(\n",
              "                [41.924860376546214, -87.7035190503226],\n",
              "                {}\n",
              "            ).addTo(map_27c177142a12670efb89ae49011ab957);\n",
              "        \n",
              "    \n",
              "            var marker_910121475859a1acda238efedc62ad31 = L.marker(\n",
              "                [41.99199760467718, -87.79820642998901],\n",
              "                {}\n",
              "            ).addTo(map_27c177142a12670efb89ae49011ab957);\n",
              "        \n",
              "    \n",
              "            var marker_be694fc231ac2d25e829cb4f0ed08f14 = L.marker(\n",
              "                [41.9210332601157, -87.79791005523576],\n",
              "                {}\n",
              "            ).addTo(map_27c177142a12670efb89ae49011ab957);\n",
              "        \n",
              "    \n",
              "            var marker_f430f1e498cd6504394209989eca67c0 = L.marker(\n",
              "                [41.9366521886413, -87.78602401236114],\n",
              "                {}\n",
              "            ).addTo(map_27c177142a12670efb89ae49011ab957);\n",
              "        \n",
              "    \n",
              "            var marker_361449c2544f30f5db2e42832c049468 = L.marker(\n",
              "                [41.91235487836141, -87.68029967133904],\n",
              "                {}\n",
              "            ).addTo(map_27c177142a12670efb89ae49011ab957);\n",
              "        \n",
              "    \n",
              "            var marker_938683f1b63ff7a133302f78a926556e = L.marker(\n",
              "                [42.00507612272344, -87.69021903022175],\n",
              "                {}\n",
              "            ).addTo(map_27c177142a12670efb89ae49011ab957);\n",
              "        \n",
              "    \n",
              "            var marker_e62bf4f8a230c3e9b0908a19f64df2ad = L.marker(\n",
              "                [41.940131637508564, -87.64602857926714],\n",
              "                {}\n",
              "            ).addTo(map_27c177142a12670efb89ae49011ab957);\n",
              "        \n",
              "    \n",
              "            var marker_4432c6d9cd0b389b880f79418300341e = L.marker(\n",
              "                [41.67790647382097, -87.6431683153105],\n",
              "                {}\n",
              "            ).addTo(map_27c177142a12670efb89ae49011ab957);\n",
              "        \n",
              "    \n",
              "            var marker_6e4c78c0cc3e5cccef2679afdadcf83e = L.marker(\n",
              "                [41.72118978926962, -87.67214620967468],\n",
              "                {}\n",
              "            ).addTo(map_27c177142a12670efb89ae49011ab957);\n",
              "        \n",
              "    \n",
              "            var marker_ed65f5013e5d3110ffd9c458c7a54f5c = L.marker(\n",
              "                [41.87934542742433, -87.72547641315548],\n",
              "                {}\n",
              "            ).addTo(map_27c177142a12670efb89ae49011ab957);\n",
              "        \n",
              "    \n",
              "            var marker_11e18f1890ba33475af3d3a1f1de4576 = L.marker(\n",
              "                [41.757343880012456, -87.6540643783153],\n",
              "                {}\n",
              "            ).addTo(map_27c177142a12670efb89ae49011ab957);\n",
              "        \n",
              "    \n",
              "            var marker_90bff48266e7f85baea11d6a041afe8a = L.marker(\n",
              "                [41.88917312206642, -87.7658203582574],\n",
              "                {}\n",
              "            ).addTo(map_27c177142a12670efb89ae49011ab957);\n",
              "        \n",
              "    \n",
              "            var marker_f3af7f47740ce9709752c2ce61348a94 = L.marker(\n",
              "                [41.73795704970435, -87.70221598421591],\n",
              "                {}\n",
              "            ).addTo(map_27c177142a12670efb89ae49011ab957);\n",
              "        \n",
              "    \n",
              "            var marker_d6c16ed461166678c0b4d780e02f094b = L.marker(\n",
              "                [41.96750826032374, -87.76176748220928],\n",
              "                {}\n",
              "            ).addTo(map_27c177142a12670efb89ae49011ab957);\n",
              "        \n",
              "    \n",
              "            var marker_08d96ce31624edb88b091ea4a34182af = L.marker(\n",
              "                [41.83030074817219, -87.67349098124289],\n",
              "                {}\n",
              "            ).addTo(map_27c177142a12670efb89ae49011ab957);\n",
              "        \n",
              "    \n",
              "            var marker_6fbe196fe576cd0450063bcf7df795eb = L.marker(\n",
              "                [41.73029771500594, -87.54972658730712],\n",
              "                {}\n",
              "            ).addTo(map_27c177142a12670efb89ae49011ab957);\n",
              "        \n",
              "    \n",
              "            var marker_2acd696a92299e52e4eabfd6b7f47afe = L.marker(\n",
              "                [41.776652677565934, -87.78218757614671],\n",
              "                {}\n",
              "            ).addTo(map_27c177142a12670efb89ae49011ab957);\n",
              "        \n",
              "    \n",
              "            var marker_1870872dc2f9ec18e9fd70fd22841371 = L.marker(\n",
              "                [41.693015814018004, -87.70102477600602],\n",
              "                {}\n",
              "            ).addTo(map_27c177142a12670efb89ae49011ab957);\n",
              "        \n",
              "    \n",
              "            var marker_3f69c878e3ded67bcd4dc5873cb31839 = L.marker(\n",
              "                [41.842086096760674, -87.72463965526215],\n",
              "                {}\n",
              "            ).addTo(map_27c177142a12670efb89ae49011ab957);\n",
              "        \n",
              "    \n",
              "            var marker_fbb3b77d91d501467fd50f45d1fd2c35 = L.marker(\n",
              "                [41.7819767986214, -87.7033680880769],\n",
              "                {}\n",
              "            ).addTo(map_27c177142a12670efb89ae49011ab957);\n",
              "        \n",
              "    \n",
              "            var marker_8c719d21724c0c7ac15f4fc0199e936a = L.marker(\n",
              "                [41.87686252958797, -87.62779697013237],\n",
              "                {}\n",
              "            ).addTo(map_27c177142a12670efb89ae49011ab957);\n",
              "        \n",
              "    \n",
              "            var marker_33eeb396b3e2898b307c1b9d7066dc13 = L.marker(\n",
              "                [41.81516027827089, -87.70273371160454],\n",
              "                {}\n",
              "            ).addTo(map_27c177142a12670efb89ae49011ab957);\n",
              "        \n",
              "    \n",
              "            var marker_c3014fcb2fefdc009434d84c20c56d7d = L.marker(\n",
              "                [41.8950961032908, -87.74806072822989],\n",
              "                {}\n",
              "            ).addTo(map_27c177142a12670efb89ae49011ab957);\n",
              "        \n",
              "    \n",
              "            var marker_178fd61bc42bcf04f00bb3d6505f022f = L.marker(\n",
              "                [41.84959155873184, -87.70504118331108],\n",
              "                {}\n",
              "            ).addTo(map_27c177142a12670efb89ae49011ab957);\n",
              "        \n",
              "    \n",
              "            var marker_4e36b6733969593ee1a9a674c683da32 = L.marker(\n",
              "                [41.94046531149621, -87.67102536129381],\n",
              "                {}\n",
              "            ).addTo(map_27c177142a12670efb89ae49011ab957);\n",
              "        \n",
              "    \n",
              "            var marker_2820fb96e5fb0494c37bd7b6021a86af = L.marker(\n",
              "                [41.79357525220078, -87.69413004003073],\n",
              "                {}\n",
              "            ).addTo(map_27c177142a12670efb89ae49011ab957);\n",
              "        \n",
              "    \n",
              "            var marker_6a0c946ad131d5b35a01233ca0e9c265 = L.marker(\n",
              "                [41.978098111742476, -87.81420029973704],\n",
              "                {}\n",
              "            ).addTo(map_27c177142a12670efb89ae49011ab957);\n",
              "        \n",
              "    \n",
              "            var marker_f664608bb7f5e7b98a7413d03d3222eb = L.marker(\n",
              "                [41.94319949471892, -87.81395164414246],\n",
              "                {}\n",
              "            ).addTo(map_27c177142a12670efb89ae49011ab957);\n",
              "        \n",
              "    \n",
              "            var marker_eb7a1934a132c8d08164705cfdea6ca2 = L.marker(\n",
              "                [41.97155143669217, -87.66095347964183],\n",
              "                {}\n",
              "            ).addTo(map_27c177142a12670efb89ae49011ab957);\n",
              "        \n",
              "    \n",
              "            var marker_0ca51f332324867516fa0c0378fc15cd = L.marker(\n",
              "                [41.8837105009142, -87.6545650515331],\n",
              "                {}\n",
              "            ).addTo(map_27c177142a12670efb89ae49011ab957);\n",
              "        \n",
              "    \n",
              "            var marker_9221dcb2cd272773838d7b836531b7d4 = L.marker(\n",
              "                [41.69436481773882, -87.6181414059763],\n",
              "                {}\n",
              "            ).addTo(map_27c177142a12670efb89ae49011ab957);\n",
              "        \n",
              "    \n",
              "            var marker_377ec5de5281825040c7aece8d6c8d92 = L.marker(\n",
              "                [41.71340053892868, -87.56573413765888],\n",
              "                {}\n",
              "            ).addTo(map_27c177142a12670efb89ae49011ab957);\n",
              "        \n",
              "    \n",
              "            var marker_7b167c7a3b6af95b564b9234a709aa2f = L.marker(\n",
              "                [41.807377846345496, -87.62263720177272],\n",
              "                {}\n",
              "            ).addTo(map_27c177142a12670efb89ae49011ab957);\n",
              "        \n",
              "    \n",
              "            var marker_d8c388b36c174759d7c9f9010c913c88 = L.marker(\n",
              "                [41.90393142178499, -87.63660775555267],\n",
              "                {}\n",
              "            ).addTo(map_27c177142a12670efb89ae49011ab957);\n",
              "        \n",
              "    \n",
              "            var marker_11477d0faabe0d9c06866c357d25a562 = L.marker(\n",
              "                [41.78028267185317, -87.60712228979007],\n",
              "                {}\n",
              "            ).addTo(map_27c177142a12670efb89ae49011ab957);\n",
              "        \n",
              "    \n",
              "            var marker_01b4d7ab9acd61bcbf73a15a03467d42 = L.marker(\n",
              "                [41.95312267684315, -87.77928489355646],\n",
              "                {}\n",
              "            ).addTo(map_27c177142a12670efb89ae49011ab957);\n",
              "        \n",
              "    \n",
              "            var marker_dfbacb9a778001aea0b0dc988916abde = L.marker(\n",
              "                [41.720694885749005, -87.64304817213312],\n",
              "                {}\n",
              "            ).addTo(map_27c177142a12670efb89ae49011ab957);\n",
              "        \n",
              "    \n",
              "            var marker_388a855fde1a208f6359f2405f74abd7 = L.marker(\n",
              "                [41.968242773953044, -87.737968778247],\n",
              "                {}\n",
              "            ).addTo(map_27c177142a12670efb89ae49011ab957);\n",
              "        \n",
              "    \n",
              "            var marker_df2f7a79db6080e26b6ccb833a449925 = L.marker(\n",
              "                [41.82824306445502, -87.6263495444489],\n",
              "                {}\n",
              "            ).addTo(map_27c177142a12670efb89ae49011ab957);\n",
              "        \n",
              "    \n",
              "            var marker_ce584d4df995717291500bf9ad0f4453 = L.marker(\n",
              "                [41.95832305807637, -87.65424744448335],\n",
              "                {}\n",
              "            ).addTo(map_27c177142a12670efb89ae49011ab957);\n",
              "        \n",
              "    \n",
              "            var marker_35b11b1bf1f10d556a5497d72a3521f2 = L.marker(\n",
              "                [41.79476901885989, -87.65502837616037],\n",
              "                {}\n",
              "            ).addTo(map_27c177142a12670efb89ae49011ab957);\n",
              "        \n",
              "&lt;/script&gt;\n",
              "&lt;/html&gt;\" style=\"position:absolute;width:100%;height:100%;left:0;top:0;border:none !important;\" allowfullscreen webkitallowfullscreen mozallowfullscreen></iframe></div></div>"
            ]
          },
          "metadata": {},
          "execution_count": 22
        }
      ]
    },
    {
      "cell_type": "markdown",
      "source": [
        "# Step 4: Set up the prescriptive model"
      ],
      "metadata": {
        "id": "oMH2PAC079TA"
      }
    },
    {
      "cell_type": "code",
      "source": [
        "!pip install cplex"
      ],
      "metadata": {
        "colab": {
          "base_uri": "https://localhost:8080/"
        },
        "id": "hR8WiALL8YSB",
        "outputId": "6c9568bc-2685-43b2-9c38-51ac1d652383"
      },
      "execution_count": 24,
      "outputs": [
        {
          "output_type": "stream",
          "name": "stdout",
          "text": [
            "Collecting cplex\n",
            "  Downloading cplex-22.1.1.0-cp310-cp310-manylinux1_x86_64.whl (44.2 MB)\n",
            "\u001b[2K     \u001b[90m━━━━━━━━━━━━━━━━━━━━━━━━━━━━━━━━━━━━━━━━\u001b[0m \u001b[32m44.2/44.2 MB\u001b[0m \u001b[31m14.1 MB/s\u001b[0m eta \u001b[36m0:00:00\u001b[0m\n",
            "\u001b[?25hInstalling collected packages: cplex\n",
            "Successfully installed cplex-22.1.1.0\n"
          ]
        }
      ]
    },
    {
      "cell_type": "code",
      "source": [
        "from docplex.mp.environment import Environment\n",
        "env = Environment()\n",
        "env.print_information()"
      ],
      "metadata": {
        "colab": {
          "base_uri": "https://localhost:8080/"
        },
        "id": "cXxWH6YT8AZC",
        "outputId": "912f6e7d-4ab6-4d35-a7d4-6f36a7b3a981"
      },
      "execution_count": 25,
      "outputs": [
        {
          "output_type": "stream",
          "name": "stdout",
          "text": [
            "* system is: Linux 64bit\n",
            "* Python version 3.10.6, located at: /usr/bin/python3\n",
            "* docplex is present, version is 2.25.236\n",
            "* CPLEX library is present, version is 22.1.1.0, located at: /usr/local/lib/python3.10/dist-packages\n",
            "* pandas is present, version is 1.5.3\n"
          ]
        }
      ]
    },
    {
      "cell_type": "markdown",
      "source": [
        "## Create the DOcplex model"
      ],
      "metadata": {
        "id": "tk6vWAxZ8grJ"
      }
    },
    {
      "cell_type": "code",
      "source": [
        "from docplex.mp.model import Model\n",
        "\n",
        "mdl = Model(\"coffee shops\")"
      ],
      "metadata": {
        "id": "z5A67nXJ8KQN"
      },
      "execution_count": 42,
      "outputs": []
    },
    {
      "cell_type": "markdown",
      "source": [
        "## Define the decision variables"
      ],
      "metadata": {
        "id": "eYicXNF78tqe"
      }
    },
    {
      "cell_type": "code",
      "source": [
        "BIGNUM = 999999999 # 9's 9\n",
        "\n",
        "# Ensure unique points\n",
        "libraries = set(libraries)\n",
        "'''\n",
        "  For simplicity, let's consider that coffee shops candidate location\n",
        "are the same as libraries locations.\n",
        "'''\n",
        "# That is: any library location can also be selected as a coffee shop.\n",
        "coffeeshops_locations = libraries\n",
        "\n",
        "# Decision vars\n",
        "# Binary vars indicating which coffee ship locations will be actually selected\n",
        "coffeeshops_vars = mdl.binary_var_dict(coffeeshops_locations, name='is_coffeeshop')\n",
        "\n",
        "# Binary vars representing the \"assigned\" libraries for each coffee shop\n",
        "link_vars = mdl.binary_var_matrix(coffeeshops_locations, libraries, \"link\")"
      ],
      "metadata": {
        "id": "BK-91EiB8s6B"
      },
      "execution_count": 43,
      "outputs": []
    },
    {
      "cell_type": "markdown",
      "source": [
        "## Express the business constraints"
      ],
      "metadata": {
        "id": "OFFASQLWDsHf"
      }
    },
    {
      "cell_type": "markdown",
      "source": [
        "- First: if the distance is suspect, it needs to be excluded from the problem"
      ],
      "metadata": {
        "id": "SYXkTEoXFc5T"
      }
    },
    {
      "cell_type": "code",
      "source": [
        "for c_loc in coffeeshops_locations:\n",
        "  for b in libraries:\n",
        "    if get_distance(c_loc, b) >= BIGNUM:\n",
        "      mdl.add_constraint(link_vars[c_loc, b] == 0, \\\n",
        "                         \"ct_forbid_{0!s}_{1!s}\".format(c_loc, b))\n",
        "\n",
        "mdl.print_information()"
      ],
      "metadata": {
        "colab": {
          "base_uri": "https://localhost:8080/"
        },
        "id": "VLNNT-GqDwkj",
        "outputId": "5e8e0d34-8100-4b0d-b18f-78fb23a965b1"
      },
      "execution_count": 44,
      "outputs": [
        {
          "output_type": "stream",
          "name": "stdout",
          "text": [
            "Model: coffee shops\n",
            " - number of variables: 6642\n",
            "   - binary=6642, integer=0, continuous=0\n",
            " - number of constraints: 0\n",
            "   - linear=0\n",
            " - parameters: defaults\n",
            " - objective: none\n",
            " - problem type is: MILP\n"
          ]
        }
      ]
    },
    {
      "cell_type": "markdown",
      "source": [
        "- Second: each library must be linked to a coffee shop that is open"
      ],
      "metadata": {
        "id": "cZcS0g-oFoAh"
      }
    },
    {
      "cell_type": "code",
      "source": [
        "mdl.add_constraints(link_vars[c_loc, b] <= coffeeshops_vars[c_loc]\\\n",
        "                   for b in libraries\\\n",
        "                   for c_loc in coffeeshops_locations)\n",
        "mdl.print_information()"
      ],
      "metadata": {
        "colab": {
          "base_uri": "https://localhost:8080/"
        },
        "id": "3uiBNmHcEzNa",
        "outputId": "7bd8f65b-94ee-4a49-ec5c-f4aa59155692"
      },
      "execution_count": 45,
      "outputs": [
        {
          "output_type": "stream",
          "name": "stdout",
          "text": [
            "Model: coffee shops\n",
            " - number of variables: 6642\n",
            "   - binary=6642, integer=0, continuous=0\n",
            " - number of constraints: 6561\n",
            "   - linear=6561\n",
            " - parameters: defaults\n",
            " - objective: none\n",
            " - problem type is: MILP\n"
          ]
        }
      ]
    },
    {
      "cell_type": "markdown",
      "source": [
        "- Third: each library is linked to exactly one coffee shop"
      ],
      "metadata": {
        "id": "8agwl7nCFtOO"
      }
    },
    {
      "cell_type": "code",
      "source": [
        "mdl.add_constraints(mdl.sum(link_vars[c_loc, b] \\\n",
        "                            for c_loc in coffeeshops_locations) == 1 \\\n",
        "                    for b in libraries)\n",
        "mdl.print_information()"
      ],
      "metadata": {
        "colab": {
          "base_uri": "https://localhost:8080/"
        },
        "id": "cwG44fHLFN7u",
        "outputId": "d60b1f2f-e625-41b5-bdfd-f4c4dd80793b"
      },
      "execution_count": 46,
      "outputs": [
        {
          "output_type": "stream",
          "name": "stdout",
          "text": [
            "Model: coffee shops\n",
            " - number of variables: 6642\n",
            "   - binary=6642, integer=0, continuous=0\n",
            " - number of constraints: 6642\n",
            "   - linear=6642\n",
            " - parameters: defaults\n",
            " - objective: none\n",
            " - problem type is: MILP\n"
          ]
        }
      ]
    },
    {
      "cell_type": "markdown",
      "source": [
        "- Fourth: there is a fixed number of coffee shops to open"
      ],
      "metadata": {
        "id": "J-zu4SKzGgbl"
      }
    },
    {
      "cell_type": "code",
      "source": [
        "# Total nb of open coffee shops\n",
        "mdl.add_constraint(mdl.sum(coffeeshops_vars[c_loc] \\\n",
        "                           for c_loc in coffeeshops_locations) == nb_shops)\n",
        "\n",
        "# Print model information\n",
        "mdl.print_information()"
      ],
      "metadata": {
        "colab": {
          "base_uri": "https://localhost:8080/"
        },
        "id": "eHd0EVk4GSrW",
        "outputId": "e00590e8-3120-462f-c3f8-ded8293ee6c6"
      },
      "execution_count": 47,
      "outputs": [
        {
          "output_type": "stream",
          "name": "stdout",
          "text": [
            "Model: coffee shops\n",
            " - number of variables: 6642\n",
            "   - binary=6642, integer=0, continuous=0\n",
            " - number of constraints: 6643\n",
            "   - linear=6643\n",
            " - parameters: defaults\n",
            " - objective: none\n",
            " - problem type is: MILP\n"
          ]
        }
      ]
    },
    {
      "cell_type": "markdown",
      "source": [
        "## Express the objective\n",
        "\n",
        "The objective is to minimize the total distance from libraries to coffee shops so that a book reader always gets to our coffee shop easily"
      ],
      "metadata": {
        "id": "sCjSzrmAHz29"
      }
    },
    {
      "cell_type": "code",
      "source": [
        "# Minimize total distance from points to hubs\n",
        "total_distance = mdl.sum(link_vars[c_loc, b] * get_distance(c_loc,b)\\\n",
        "                         for c_loc in coffeeshops_locations\\\n",
        "                         for b in libraries)\n",
        "\n",
        "mdl.minimize(total_distance)\n",
        "mdl.print_information()"
      ],
      "metadata": {
        "colab": {
          "base_uri": "https://localhost:8080/"
        },
        "id": "ehChcnwlHtlT",
        "outputId": "91a7315b-37de-4ed8-fa5d-5b72f93f40f2"
      },
      "execution_count": 50,
      "outputs": [
        {
          "output_type": "stream",
          "name": "stdout",
          "text": [
            "Model: coffee shops\n",
            " - number of variables: 6642\n",
            "   - binary=6642, integer=0, continuous=0\n",
            " - number of constraints: 6643\n",
            "   - linear=6643\n",
            " - parameters: defaults\n",
            " - objective: minimize\n",
            " - problem type is: MILP\n"
          ]
        }
      ]
    },
    {
      "cell_type": "markdown",
      "source": [
        "## Solve with the Decision Optimization solve service"
      ],
      "metadata": {
        "id": "Ifrniv3HJD7J"
      }
    },
    {
      "cell_type": "code",
      "source": [
        "print(\"# coffee shops locations   = %d\" % len(coffeeshops_locations))\n",
        "print(\"# coffee shops             = %d\" % nb_shops)\n",
        "\n",
        "assert mdl.solve(), \"!!! Solve of the model fails\"\n",
        "\n",
        "# Community edition limit 1000 :("
      ],
      "metadata": {
        "colab": {
          "base_uri": "https://localhost:8080/",
          "height": 561
        },
        "id": "vI00XdZZJIda",
        "outputId": "49ff6f61-446c-411c-8865-974951f8ebf8"
      },
      "execution_count": 49,
      "outputs": [
        {
          "output_type": "stream",
          "name": "stdout",
          "text": [
            "# coffee shops locations   = 81\n",
            "# coffee shops             = 5\n"
          ]
        },
        {
          "output_type": "error",
          "ename": "DOcplexLimitsExceeded",
          "evalue": "ignored",
          "traceback": [
            "\u001b[0;31m---------------------------------------------------------------------------\u001b[0m",
            "\u001b[0;31mCplexSolverError\u001b[0m                          Traceback (most recent call last)",
            "\u001b[0;32m/usr/local/lib/python3.10/dist-packages/docplex/mp/cplex_engine.py\u001b[0m in \u001b[0;36msolve\u001b[0;34m(self, mdl, parameters, **kwargs)\u001b[0m\n\u001b[1;32m   2007\u001b[0m             \u001b[0;32melse\u001b[0m\u001b[0;34m:\u001b[0m\u001b[0;34m\u001b[0m\u001b[0;34m\u001b[0m\u001b[0m\n\u001b[0;32m-> 2008\u001b[0;31m                 \u001b[0mcpx\u001b[0m\u001b[0;34m.\u001b[0m\u001b[0msolve\u001b[0m\u001b[0;34m(\u001b[0m\u001b[0;34m)\u001b[0m\u001b[0;34m\u001b[0m\u001b[0;34m\u001b[0m\u001b[0m\n\u001b[0m\u001b[1;32m   2009\u001b[0m \u001b[0;34m\u001b[0m\u001b[0m\n",
            "\u001b[0;32m/usr/local/lib/python3.10/dist-packages/cplex/__init__.py\u001b[0m in \u001b[0;36msolve\u001b[0;34m(self, paramsets)\u001b[0m\n\u001b[1;32m   1303\u001b[0m         \u001b[0;32melif\u001b[0m \u001b[0mself\u001b[0m\u001b[0;34m.\u001b[0m\u001b[0m_is_MIP\u001b[0m\u001b[0;34m(\u001b[0m\u001b[0;34m)\u001b[0m\u001b[0;34m:\u001b[0m\u001b[0;34m\u001b[0m\u001b[0;34m\u001b[0m\u001b[0m\n\u001b[0;32m-> 1304\u001b[0;31m             \u001b[0m_proc\u001b[0m\u001b[0;34m.\u001b[0m\u001b[0mmipopt\u001b[0m\u001b[0;34m(\u001b[0m\u001b[0mself\u001b[0m\u001b[0;34m.\u001b[0m\u001b[0m_env\u001b[0m\u001b[0;34m.\u001b[0m\u001b[0m_e\u001b[0m\u001b[0;34m,\u001b[0m \u001b[0mself\u001b[0m\u001b[0;34m.\u001b[0m\u001b[0m_lp\u001b[0m\u001b[0;34m)\u001b[0m\u001b[0;34m\u001b[0m\u001b[0;34m\u001b[0m\u001b[0m\n\u001b[0m\u001b[1;32m   1305\u001b[0m         \u001b[0;32melif\u001b[0m \u001b[0mself\u001b[0m\u001b[0;34m.\u001b[0m\u001b[0mquadratic_constraints\u001b[0m\u001b[0;34m.\u001b[0m\u001b[0mget_num\u001b[0m\u001b[0;34m(\u001b[0m\u001b[0;34m)\u001b[0m \u001b[0;34m>\u001b[0m \u001b[0;36m0\u001b[0m\u001b[0;34m:\u001b[0m\u001b[0;34m\u001b[0m\u001b[0;34m\u001b[0m\u001b[0m\n",
            "\u001b[0;32m/usr/local/lib/python3.10/dist-packages/cplex/_internal/_procedural.py\u001b[0m in \u001b[0;36mmipopt\u001b[0;34m(env, lp)\u001b[0m\n\u001b[1;32m    707\u001b[0m         \u001b[0mstatus\u001b[0m \u001b[0;34m=\u001b[0m \u001b[0mCR\u001b[0m\u001b[0;34m.\u001b[0m\u001b[0mCPXXmipopt\u001b[0m\u001b[0;34m(\u001b[0m\u001b[0menv\u001b[0m\u001b[0;34m,\u001b[0m \u001b[0mlp\u001b[0m\u001b[0;34m)\u001b[0m\u001b[0;34m\u001b[0m\u001b[0;34m\u001b[0m\u001b[0m\n\u001b[0;32m--> 708\u001b[0;31m     \u001b[0mcheck_status\u001b[0m\u001b[0;34m(\u001b[0m\u001b[0menv\u001b[0m\u001b[0;34m,\u001b[0m \u001b[0mstatus\u001b[0m\u001b[0;34m)\u001b[0m\u001b[0;34m\u001b[0m\u001b[0;34m\u001b[0m\u001b[0m\n\u001b[0m\u001b[1;32m    709\u001b[0m \u001b[0;34m\u001b[0m\u001b[0m\n",
            "\u001b[0;32m/usr/local/lib/python3.10/dist-packages/cplex/_internal/_procedural.py\u001b[0m in \u001b[0;36m__call__\u001b[0;34m(self, env, status, from_cb)\u001b[0m\n\u001b[1;32m    248\u001b[0m                     \u001b[0merror_string\u001b[0m \u001b[0;34m=\u001b[0m \u001b[0mgeterrorstring\u001b[0m\u001b[0;34m(\u001b[0m\u001b[0menv\u001b[0m\u001b[0;34m,\u001b[0m \u001b[0mstatus\u001b[0m\u001b[0;34m)\u001b[0m\u001b[0;34m\u001b[0m\u001b[0;34m\u001b[0m\u001b[0m\n\u001b[0;32m--> 249\u001b[0;31m             \u001b[0;32mraise\u001b[0m \u001b[0mCplexSolverError\u001b[0m\u001b[0;34m(\u001b[0m\u001b[0merror_string\u001b[0m\u001b[0;34m,\u001b[0m \u001b[0menv\u001b[0m\u001b[0;34m,\u001b[0m \u001b[0mstatus\u001b[0m\u001b[0;34m)\u001b[0m\u001b[0;34m\u001b[0m\u001b[0;34m\u001b[0m\u001b[0m\n\u001b[0m\u001b[1;32m    250\u001b[0m \u001b[0;34m\u001b[0m\u001b[0m\n",
            "\u001b[0;31mCplexSolverError\u001b[0m: CPLEX Error  1016: Community Edition. Problem size limits exceeded. Purchase at http://ibm.biz/error1016.",
            "\nDuring handling of the above exception, another exception occurred:\n",
            "\u001b[0;31mDOcplexLimitsExceeded\u001b[0m                     Traceback (most recent call last)",
            "\u001b[0;32m<ipython-input-49-988e8c595d0f>\u001b[0m in \u001b[0;36m<cell line: 4>\u001b[0;34m()\u001b[0m\n\u001b[1;32m      2\u001b[0m \u001b[0mprint\u001b[0m\u001b[0;34m(\u001b[0m\u001b[0;34m\"# coffee shops             = %d\"\u001b[0m \u001b[0;34m%\u001b[0m \u001b[0mnb_shops\u001b[0m\u001b[0;34m)\u001b[0m\u001b[0;34m\u001b[0m\u001b[0;34m\u001b[0m\u001b[0m\n\u001b[1;32m      3\u001b[0m \u001b[0;34m\u001b[0m\u001b[0m\n\u001b[0;32m----> 4\u001b[0;31m \u001b[0;32massert\u001b[0m \u001b[0mmdl\u001b[0m\u001b[0;34m.\u001b[0m\u001b[0msolve\u001b[0m\u001b[0;34m(\u001b[0m\u001b[0;34m)\u001b[0m\u001b[0;34m,\u001b[0m \u001b[0;34m\"!!! Solve of the model fails\"\u001b[0m\u001b[0;34m\u001b[0m\u001b[0;34m\u001b[0m\u001b[0m\n\u001b[0m",
            "\u001b[0;32m/usr/local/lib/python3.10/dist-packages/docplex/mp/model.py\u001b[0m in \u001b[0;36msolve\u001b[0;34m(self, **kwargs)\u001b[0m\n\u001b[1;32m   4831\u001b[0m                 \u001b[0;31m# take arg clean flag or this model's\u001b[0m\u001b[0;34m\u001b[0m\u001b[0;34m\u001b[0m\u001b[0m\n\u001b[1;32m   4832\u001b[0m                 \u001b[0mused_clean_before_solve\u001b[0m \u001b[0;34m=\u001b[0m \u001b[0mkwargs\u001b[0m\u001b[0;34m.\u001b[0m\u001b[0mget\u001b[0m\u001b[0;34m(\u001b[0m\u001b[0;34m'clean_before_solve'\u001b[0m\u001b[0;34m,\u001b[0m \u001b[0mself\u001b[0m\u001b[0;34m.\u001b[0m\u001b[0mclean_before_solve\u001b[0m\u001b[0;34m)\u001b[0m\u001b[0;34m\u001b[0m\u001b[0;34m\u001b[0m\u001b[0m\n\u001b[0;32m-> 4833\u001b[0;31m                 \u001b[0;32mreturn\u001b[0m \u001b[0mself\u001b[0m\u001b[0;34m.\u001b[0m\u001b[0m_solve_local\u001b[0m\u001b[0;34m(\u001b[0m\u001b[0mcontext\u001b[0m\u001b[0;34m,\u001b[0m \u001b[0mused_clean_before_solve\u001b[0m\u001b[0;34m,\u001b[0m \u001b[0mparameter_sets\u001b[0m\u001b[0;34m)\u001b[0m\u001b[0;31m# lex_timelimits, lex_mipgaps)\u001b[0m\u001b[0;34m\u001b[0m\u001b[0;34m\u001b[0m\u001b[0m\n\u001b[0m\u001b[1;32m   4834\u001b[0m             \u001b[0;32melse\u001b[0m\u001b[0;34m:\u001b[0m\u001b[0;34m\u001b[0m\u001b[0;34m\u001b[0m\u001b[0m\n\u001b[1;32m   4835\u001b[0m                 \u001b[0;32mreturn\u001b[0m \u001b[0mself\u001b[0m\u001b[0;34m.\u001b[0m\u001b[0mfatal\u001b[0m\u001b[0;34m(\u001b[0m\u001b[0;34m\"Cannot solve model: no CPLEX runtime found.\"\u001b[0m\u001b[0;34m)\u001b[0m\u001b[0;34m\u001b[0m\u001b[0;34m\u001b[0m\u001b[0m\n",
            "\u001b[0;32m/usr/local/lib/python3.10/dist-packages/docplex/mp/model.py\u001b[0m in \u001b[0;36m_solve_local\u001b[0;34m(self, context, clean_before_solve, parameter_sets)\u001b[0m\n\u001b[1;32m   4879\u001b[0m         \u001b[0;32mexcept\u001b[0m \u001b[0mDOcplexException\u001b[0m \u001b[0;32mas\u001b[0m \u001b[0mdocpx_e\u001b[0m\u001b[0;34m:\u001b[0m  \u001b[0;31m# pragma: no cover\u001b[0m\u001b[0;34m\u001b[0m\u001b[0;34m\u001b[0m\u001b[0m\n\u001b[1;32m   4880\u001b[0m             \u001b[0mnew_solution\u001b[0m \u001b[0;34m=\u001b[0m \u001b[0;32mNone\u001b[0m\u001b[0;34m\u001b[0m\u001b[0;34m\u001b[0m\u001b[0m\n\u001b[0;32m-> 4881\u001b[0;31m             \u001b[0;32mraise\u001b[0m \u001b[0mdocpx_e\u001b[0m\u001b[0;34m\u001b[0m\u001b[0;34m\u001b[0m\u001b[0m\n\u001b[0m\u001b[1;32m   4882\u001b[0m \u001b[0;34m\u001b[0m\u001b[0m\n\u001b[1;32m   4883\u001b[0m         \u001b[0;32mexcept\u001b[0m \u001b[0mException\u001b[0m \u001b[0;32mas\u001b[0m \u001b[0me\u001b[0m\u001b[0;34m:\u001b[0m\u001b[0;34m\u001b[0m\u001b[0;34m\u001b[0m\u001b[0m\n",
            "\u001b[0;32m/usr/local/lib/python3.10/dist-packages/docplex/mp/model.py\u001b[0m in \u001b[0;36m_solve_local\u001b[0;34m(self, context, clean_before_solve, parameter_sets)\u001b[0m\n\u001b[1;32m   4868\u001b[0m             \u001b[0mself\u001b[0m\u001b[0;34m.\u001b[0m\u001b[0m_apply_parameters_to_engine\u001b[0m\u001b[0;34m(\u001b[0m\u001b[0mused_parameters\u001b[0m\u001b[0;34m)\u001b[0m\u001b[0;34m\u001b[0m\u001b[0;34m\u001b[0m\u001b[0m\n\u001b[1;32m   4869\u001b[0m \u001b[0;34m\u001b[0m\u001b[0m\n\u001b[0;32m-> 4870\u001b[0;31m             new_solution = self_engine.solve(self,\n\u001b[0m\u001b[1;32m   4871\u001b[0m                                              \u001b[0mparameters\u001b[0m\u001b[0;34m=\u001b[0m\u001b[0mused_parameters\u001b[0m\u001b[0;34m,\u001b[0m\u001b[0;34m\u001b[0m\u001b[0;34m\u001b[0m\u001b[0m\n\u001b[1;32m   4872\u001b[0m                                              \u001b[0mclean_before_solve\u001b[0m\u001b[0;34m=\u001b[0m\u001b[0mclean_before_solve\u001b[0m\u001b[0;34m,\u001b[0m\u001b[0;34m\u001b[0m\u001b[0;34m\u001b[0m\u001b[0m\n",
            "\u001b[0;32m/usr/local/lib/python3.10/dist-packages/docplex/mp/cplex_engine.py\u001b[0m in \u001b[0;36msolve\u001b[0;34m(self, mdl, parameters, **kwargs)\u001b[0m\n\u001b[1;32m   2042\u001b[0m                 \u001b[0mcpx_status\u001b[0m \u001b[0;34m=\u001b[0m \u001b[0;36m1016\u001b[0m\u001b[0;34m\u001b[0m\u001b[0;34m\u001b[0m\u001b[0m\n\u001b[1;32m   2043\u001b[0m                 \u001b[0mcpx_status_string\u001b[0m \u001b[0;34m=\u001b[0m \u001b[0;34m\"Promotional version. Problem size limits exceeded., CPLEX code=1016.\"\u001b[0m\u001b[0;34m\u001b[0m\u001b[0;34m\u001b[0m\u001b[0m\n\u001b[0;32m-> 2044\u001b[0;31m                 \u001b[0mself\u001b[0m\u001b[0;34m.\u001b[0m\u001b[0m_model\u001b[0m\u001b[0;34m.\u001b[0m\u001b[0mfatal_ce_limits\u001b[0m\u001b[0;34m(\u001b[0m\u001b[0;34m)\u001b[0m\u001b[0;34m\u001b[0m\u001b[0;34m\u001b[0m\u001b[0m\n\u001b[0m\u001b[1;32m   2045\u001b[0m \u001b[0;34m\u001b[0m\u001b[0m\n\u001b[1;32m   2046\u001b[0m             \u001b[0;32melif\u001b[0m \u001b[0mself\u001b[0m\u001b[0;34m.\u001b[0m\u001b[0mfix_multiobj_error_1300\u001b[0m \u001b[0;32mand\u001b[0m \u001b[0;36m1300\u001b[0m \u001b[0;34m==\u001b[0m \u001b[0mcpx_code\u001b[0m\u001b[0;34m:\u001b[0m\u001b[0;34m\u001b[0m\u001b[0;34m\u001b[0m\u001b[0m\n",
            "\u001b[0;32m/usr/local/lib/python3.10/dist-packages/docplex/mp/model.py\u001b[0m in \u001b[0;36mfatal_ce_limits\u001b[0;34m(self, *args)\u001b[0m\n\u001b[1;32m   1084\u001b[0m         \u001b[0mnb_constraints\u001b[0m \u001b[0;34m=\u001b[0m \u001b[0mself\u001b[0m\u001b[0;34m.\u001b[0m\u001b[0mnumber_of_constraints\u001b[0m\u001b[0;34m\u001b[0m\u001b[0;34m\u001b[0m\u001b[0m\n\u001b[1;32m   1085\u001b[0m \u001b[0;34m\u001b[0m\u001b[0m\n\u001b[0;32m-> 1086\u001b[0;31m         \u001b[0mself\u001b[0m\u001b[0;34m.\u001b[0m\u001b[0m_error_handler\u001b[0m\u001b[0;34m.\u001b[0m\u001b[0mfatal_limits_exceeded\u001b[0m\u001b[0;34m(\u001b[0m\u001b[0mnb_vars\u001b[0m\u001b[0;34m,\u001b[0m \u001b[0mnb_constraints\u001b[0m\u001b[0;34m)\u001b[0m\u001b[0;34m\u001b[0m\u001b[0;34m\u001b[0m\u001b[0m\n\u001b[0m\u001b[1;32m   1087\u001b[0m \u001b[0;34m\u001b[0m\u001b[0m\n\u001b[1;32m   1088\u001b[0m     \u001b[0;32mdef\u001b[0m \u001b[0merror\u001b[0m\u001b[0;34m(\u001b[0m\u001b[0mself\u001b[0m\u001b[0;34m,\u001b[0m \u001b[0mmsg\u001b[0m\u001b[0;34m,\u001b[0m \u001b[0;34m*\u001b[0m\u001b[0margs\u001b[0m\u001b[0;34m)\u001b[0m\u001b[0;34m:\u001b[0m\u001b[0;34m\u001b[0m\u001b[0;34m\u001b[0m\u001b[0m\n",
            "\u001b[0;32m/usr/local/lib/python3.10/dist-packages/docplex/mp/error_handler.py\u001b[0m in \u001b[0;36mfatal_limits_exceeded\u001b[0;34m(self, nb_vars, nb_constraints)\u001b[0m\n\u001b[1;32m    212\u001b[0m     \u001b[0;32mdef\u001b[0m \u001b[0mfatal_limits_exceeded\u001b[0m\u001b[0;34m(\u001b[0m\u001b[0mself\u001b[0m\u001b[0;34m,\u001b[0m \u001b[0mnb_vars\u001b[0m\u001b[0;34m,\u001b[0m \u001b[0mnb_constraints\u001b[0m\u001b[0;34m)\u001b[0m\u001b[0;34m:\u001b[0m\u001b[0;34m\u001b[0m\u001b[0;34m\u001b[0m\u001b[0m\n\u001b[1;32m    213\u001b[0m         \u001b[0mdocplex_error_stop_here\u001b[0m\u001b[0;34m(\u001b[0m\u001b[0;34m)\u001b[0m\u001b[0;34m\u001b[0m\u001b[0;34m\u001b[0m\u001b[0m\n\u001b[0;32m--> 214\u001b[0;31m         \u001b[0;32mraise\u001b[0m \u001b[0mDOcplexLimitsExceeded\u001b[0m\u001b[0;34m(\u001b[0m\u001b[0mnb_vars\u001b[0m\u001b[0;34m,\u001b[0m \u001b[0mnb_constraints\u001b[0m\u001b[0;34m)\u001b[0m\u001b[0;34m\u001b[0m\u001b[0;34m\u001b[0m\u001b[0m\n\u001b[0m\u001b[1;32m    215\u001b[0m \u001b[0;34m\u001b[0m\u001b[0m\n\u001b[1;32m    216\u001b[0m \u001b[0;34m\u001b[0m\u001b[0m\n",
            "\u001b[0;31mDOcplexLimitsExceeded\u001b[0m: **** Promotional version. Problem size limits (1000 vars, 1000 consts) exceeded, model has 6642 vars, 6643 consts, CPLEX code=1016"
          ]
        }
      ]
    },
    {
      "cell_type": "markdown",
      "source": [
        "# Step 5: Investigate the solution and then run an example analysis"
      ],
      "metadata": {
        "id": "AehrrxWUK9Nn"
      }
    },
    {
      "cell_type": "code",
      "source": [
        "total_distance = mdl.objective_value\n",
        "open_coffeeshops = [c_loc for c_loc in coffeeshops_locations if coffeeshops_vars[c_loc].solution_value == 1]\n",
        "not_coffeeshops = [c_loc for c_loc in coffeeshops_locations if c_loc not in open_coffeeshops]\n",
        "edges = [(c_loc, b) for b in libraries for c_loc in coffeeshops_locations if int(link_vars[c_loc, b]) == 1]\n",
        "\n",
        "print(\"Total distance = %g\" % total_distance)\n",
        "print(\"# coffee shops  = {0}\".format(len(open_coffeeshops)))\n",
        "for c in open_coffeeshops:\n",
        "    print(\"new coffee shop: {0!s}\".format(c))"
      ],
      "metadata": {
        "colab": {
          "base_uri": "https://localhost:8080/",
          "height": 451
        },
        "id": "aHmMQF2tJwjd",
        "outputId": "ca77e582-f77a-402d-a003-6beaedaf686f"
      },
      "execution_count": 52,
      "outputs": [
        {
          "output_type": "error",
          "ename": "DOcplexException",
          "evalue": "ignored",
          "traceback": [
            "\u001b[0;31m---------------------------------------------------------------------------\u001b[0m",
            "\u001b[0;31mDOcplexException\u001b[0m                          Traceback (most recent call last)",
            "\u001b[0;32m<ipython-input-52-b4780e413a0d>\u001b[0m in \u001b[0;36m<cell line: 1>\u001b[0;34m()\u001b[0m\n\u001b[0;32m----> 1\u001b[0;31m \u001b[0mtotal_distance\u001b[0m \u001b[0;34m=\u001b[0m \u001b[0mmdl\u001b[0m\u001b[0;34m.\u001b[0m\u001b[0mobjective_value\u001b[0m\u001b[0;34m\u001b[0m\u001b[0;34m\u001b[0m\u001b[0m\n\u001b[0m\u001b[1;32m      2\u001b[0m \u001b[0mopen_coffeeshops\u001b[0m \u001b[0;34m=\u001b[0m \u001b[0;34m[\u001b[0m\u001b[0mc_loc\u001b[0m \u001b[0;32mfor\u001b[0m \u001b[0mc_loc\u001b[0m \u001b[0;32min\u001b[0m \u001b[0mcoffeeshops_locations\u001b[0m \u001b[0;32mif\u001b[0m \u001b[0mcoffeeshops_vars\u001b[0m\u001b[0;34m[\u001b[0m\u001b[0mc_loc\u001b[0m\u001b[0;34m]\u001b[0m\u001b[0;34m.\u001b[0m\u001b[0msolution_value\u001b[0m \u001b[0;34m==\u001b[0m \u001b[0;36m1\u001b[0m\u001b[0;34m]\u001b[0m\u001b[0;34m\u001b[0m\u001b[0;34m\u001b[0m\u001b[0m\n\u001b[1;32m      3\u001b[0m \u001b[0mnot_coffeeshops\u001b[0m \u001b[0;34m=\u001b[0m \u001b[0;34m[\u001b[0m\u001b[0mc_loc\u001b[0m \u001b[0;32mfor\u001b[0m \u001b[0mc_loc\u001b[0m \u001b[0;32min\u001b[0m \u001b[0mcoffeeshops_locations\u001b[0m \u001b[0;32mif\u001b[0m \u001b[0mc_loc\u001b[0m \u001b[0;32mnot\u001b[0m \u001b[0;32min\u001b[0m \u001b[0mopen_coffeeshops\u001b[0m\u001b[0;34m]\u001b[0m\u001b[0;34m\u001b[0m\u001b[0;34m\u001b[0m\u001b[0m\n\u001b[1;32m      4\u001b[0m \u001b[0medges\u001b[0m \u001b[0;34m=\u001b[0m \u001b[0;34m[\u001b[0m\u001b[0;34m(\u001b[0m\u001b[0mc_loc\u001b[0m\u001b[0;34m,\u001b[0m \u001b[0mb\u001b[0m\u001b[0;34m)\u001b[0m \u001b[0;32mfor\u001b[0m \u001b[0mb\u001b[0m \u001b[0;32min\u001b[0m \u001b[0mlibraries\u001b[0m \u001b[0;32mfor\u001b[0m \u001b[0mc_loc\u001b[0m \u001b[0;32min\u001b[0m \u001b[0mcoffeeshops_locations\u001b[0m \u001b[0;32mif\u001b[0m \u001b[0mint\u001b[0m\u001b[0;34m(\u001b[0m\u001b[0mlink_vars\u001b[0m\u001b[0;34m[\u001b[0m\u001b[0mc_loc\u001b[0m\u001b[0;34m,\u001b[0m \u001b[0mb\u001b[0m\u001b[0;34m]\u001b[0m\u001b[0;34m)\u001b[0m \u001b[0;34m==\u001b[0m \u001b[0;36m1\u001b[0m\u001b[0;34m]\u001b[0m\u001b[0;34m\u001b[0m\u001b[0;34m\u001b[0m\u001b[0m\n\u001b[1;32m      5\u001b[0m \u001b[0;34m\u001b[0m\u001b[0m\n",
            "\u001b[0;32m/usr/local/lib/python3.10/dist-packages/docplex/mp/model.py\u001b[0m in \u001b[0;36mobjective_value\u001b[0;34m(self)\u001b[0m\n\u001b[1;32m   5369\u001b[0m \u001b[0;34m\u001b[0m\u001b[0m\n\u001b[1;32m   5370\u001b[0m         \"\"\"\n\u001b[0;32m-> 5371\u001b[0;31m         \u001b[0mself\u001b[0m\u001b[0;34m.\u001b[0m\u001b[0m_check_has_solution\u001b[0m\u001b[0;34m(\u001b[0m\u001b[0;34m)\u001b[0m\u001b[0;34m\u001b[0m\u001b[0;34m\u001b[0m\u001b[0m\n\u001b[0m\u001b[1;32m   5372\u001b[0m         \u001b[0;32mreturn\u001b[0m \u001b[0mself\u001b[0m\u001b[0;34m.\u001b[0m\u001b[0m_objective_value\u001b[0m\u001b[0;34m(\u001b[0m\u001b[0;34m)\u001b[0m\u001b[0;34m\u001b[0m\u001b[0;34m\u001b[0m\u001b[0m\n\u001b[1;32m   5373\u001b[0m \u001b[0;34m\u001b[0m\u001b[0m\n",
            "\u001b[0;32m/usr/local/lib/python3.10/dist-packages/docplex/mp/model.py\u001b[0m in \u001b[0;36m_check_has_solution\u001b[0;34m(self)\u001b[0m\n\u001b[1;32m   5187\u001b[0m                 \u001b[0mself\u001b[0m\u001b[0;34m.\u001b[0m\u001b[0mfatal\u001b[0m\u001b[0;34m(\u001b[0m\u001b[0;34m\"Model<{0}> has not been solved yet\"\u001b[0m\u001b[0;34m,\u001b[0m \u001b[0mself\u001b[0m\u001b[0;34m.\u001b[0m\u001b[0mname\u001b[0m\u001b[0;34m)\u001b[0m\u001b[0;34m\u001b[0m\u001b[0;34m\u001b[0m\u001b[0m\n\u001b[1;32m   5188\u001b[0m             \u001b[0;32melse\u001b[0m\u001b[0;34m:\u001b[0m\u001b[0;34m\u001b[0m\u001b[0;34m\u001b[0m\u001b[0m\n\u001b[0;32m-> 5189\u001b[0;31m                 \u001b[0mself\u001b[0m\u001b[0;34m.\u001b[0m\u001b[0mfatal\u001b[0m\u001b[0;34m(\u001b[0m\u001b[0;34m\"Model<{0}> did not solve successfully\"\u001b[0m\u001b[0;34m,\u001b[0m \u001b[0mself\u001b[0m\u001b[0;34m.\u001b[0m\u001b[0mname\u001b[0m\u001b[0;34m)\u001b[0m\u001b[0;34m\u001b[0m\u001b[0;34m\u001b[0m\u001b[0m\n\u001b[0m\u001b[1;32m   5190\u001b[0m \u001b[0;34m\u001b[0m\u001b[0m\n\u001b[1;32m   5191\u001b[0m     \u001b[0;32mdef\u001b[0m \u001b[0m_check_solved_as_mip\u001b[0m\u001b[0;34m(\u001b[0m\u001b[0mself\u001b[0m\u001b[0;34m,\u001b[0m \u001b[0mcaller\u001b[0m\u001b[0;34m,\u001b[0m \u001b[0mdo_raise\u001b[0m\u001b[0;34m)\u001b[0m\u001b[0;34m:\u001b[0m\u001b[0;34m\u001b[0m\u001b[0;34m\u001b[0m\u001b[0m\n",
            "\u001b[0;32m/usr/local/lib/python3.10/dist-packages/docplex/mp/model.py\u001b[0m in \u001b[0;36mfatal\u001b[0;34m(self, msg, *args)\u001b[0m\n\u001b[1;32m   1078\u001b[0m \u001b[0;34m\u001b[0m\u001b[0m\n\u001b[1;32m   1079\u001b[0m     \u001b[0;32mdef\u001b[0m \u001b[0mfatal\u001b[0m\u001b[0;34m(\u001b[0m\u001b[0mself\u001b[0m\u001b[0;34m,\u001b[0m \u001b[0mmsg\u001b[0m\u001b[0;34m,\u001b[0m \u001b[0;34m*\u001b[0m\u001b[0margs\u001b[0m\u001b[0;34m)\u001b[0m\u001b[0;34m:\u001b[0m\u001b[0;34m\u001b[0m\u001b[0;34m\u001b[0m\u001b[0m\n\u001b[0;32m-> 1080\u001b[0;31m         \u001b[0mself\u001b[0m\u001b[0;34m.\u001b[0m\u001b[0m_error_handler\u001b[0m\u001b[0;34m.\u001b[0m\u001b[0mfatal\u001b[0m\u001b[0;34m(\u001b[0m\u001b[0mmsg\u001b[0m\u001b[0;34m,\u001b[0m \u001b[0margs\u001b[0m\u001b[0;34m)\u001b[0m\u001b[0;34m\u001b[0m\u001b[0;34m\u001b[0m\u001b[0m\n\u001b[0m\u001b[1;32m   1081\u001b[0m \u001b[0;34m\u001b[0m\u001b[0m\n\u001b[1;32m   1082\u001b[0m     \u001b[0;32mdef\u001b[0m \u001b[0mfatal_ce_limits\u001b[0m\u001b[0;34m(\u001b[0m\u001b[0mself\u001b[0m\u001b[0;34m,\u001b[0m \u001b[0;34m*\u001b[0m\u001b[0margs\u001b[0m\u001b[0;34m)\u001b[0m\u001b[0;34m:\u001b[0m\u001b[0;34m\u001b[0m\u001b[0;34m\u001b[0m\u001b[0m\n",
            "\u001b[0;32m/usr/local/lib/python3.10/dist-packages/docplex/mp/error_handler.py\u001b[0m in \u001b[0;36mfatal\u001b[0;34m(self, msg, args)\u001b[0m\n\u001b[1;32m    208\u001b[0m         \u001b[0mresolved_message\u001b[0m \u001b[0;34m=\u001b[0m \u001b[0mresolve_pattern\u001b[0m\u001b[0;34m(\u001b[0m\u001b[0mmsg\u001b[0m\u001b[0;34m,\u001b[0m \u001b[0margs\u001b[0m\u001b[0;34m)\u001b[0m\u001b[0;34m\u001b[0m\u001b[0;34m\u001b[0m\u001b[0m\n\u001b[1;32m    209\u001b[0m         \u001b[0mdocplex_error_stop_here\u001b[0m\u001b[0;34m(\u001b[0m\u001b[0;34m)\u001b[0m\u001b[0;34m\u001b[0m\u001b[0;34m\u001b[0m\u001b[0m\n\u001b[0;32m--> 210\u001b[0;31m         \u001b[0;32mraise\u001b[0m \u001b[0mDOcplexException\u001b[0m\u001b[0;34m(\u001b[0m\u001b[0mresolved_message\u001b[0m\u001b[0;34m)\u001b[0m\u001b[0;34m\u001b[0m\u001b[0;34m\u001b[0m\u001b[0m\n\u001b[0m\u001b[1;32m    211\u001b[0m \u001b[0;34m\u001b[0m\u001b[0m\n\u001b[1;32m    212\u001b[0m     \u001b[0;32mdef\u001b[0m \u001b[0mfatal_limits_exceeded\u001b[0m\u001b[0;34m(\u001b[0m\u001b[0mself\u001b[0m\u001b[0;34m,\u001b[0m \u001b[0mnb_vars\u001b[0m\u001b[0;34m,\u001b[0m \u001b[0mnb_constraints\u001b[0m\u001b[0;34m)\u001b[0m\u001b[0;34m:\u001b[0m\u001b[0;34m\u001b[0m\u001b[0;34m\u001b[0m\u001b[0m\n",
            "\u001b[0;31mDOcplexException\u001b[0m: Model<coffee shops> did not solve successfully"
          ]
        }
      ]
    },
    {
      "cell_type": "markdown",
      "source": [
        "## Displaying the solution"
      ],
      "metadata": {
        "id": "UvvSst5ULRFM"
      }
    },
    {
      "cell_type": "code",
      "source": [
        "import folium\n",
        "map_osm = folium.Map(location=[41.878, -87.629], zoom_start=11)\n",
        "for coffeeshop in open_coffeeshops:\n",
        "    lt = coffeeshop.y\n",
        "    lg = coffeeshop.x\n",
        "    folium.Marker([lt, lg], icon=folium.Icon(color='red',icon='info-sign')).add_to(map_osm)\n",
        "\n",
        "for b in libraries:\n",
        "    if b not in open_coffeeshops:\n",
        "        lt = b.y\n",
        "        lg = b.x\n",
        "        folium.Marker([lt, lg]).add_to(map_osm)\n",
        "\n",
        "\n",
        "for (c, b) in edges:\n",
        "    coordinates = [[c.y, c.x], [b.y, b.x]]\n",
        "    map_osm.add_child(folium.PolyLine(coordinates, color='#FF0000', weight=5))\n",
        "\n",
        "map_osm"
      ],
      "metadata": {
        "colab": {
          "base_uri": "https://localhost:8080/",
          "height": 244
        },
        "id": "9EDxLPiQLf_O",
        "outputId": "37c51502-5b38-4847-d8f2-cf4ca2c0a57e"
      },
      "execution_count": 53,
      "outputs": [
        {
          "output_type": "error",
          "ename": "NameError",
          "evalue": "ignored",
          "traceback": [
            "\u001b[0;31m---------------------------------------------------------------------------\u001b[0m",
            "\u001b[0;31mNameError\u001b[0m                                 Traceback (most recent call last)",
            "\u001b[0;32m<ipython-input-53-20d590435752>\u001b[0m in \u001b[0;36m<cell line: 3>\u001b[0;34m()\u001b[0m\n\u001b[1;32m      1\u001b[0m \u001b[0;32mimport\u001b[0m \u001b[0mfolium\u001b[0m\u001b[0;34m\u001b[0m\u001b[0;34m\u001b[0m\u001b[0m\n\u001b[1;32m      2\u001b[0m \u001b[0mmap_osm\u001b[0m \u001b[0;34m=\u001b[0m \u001b[0mfolium\u001b[0m\u001b[0;34m.\u001b[0m\u001b[0mMap\u001b[0m\u001b[0;34m(\u001b[0m\u001b[0mlocation\u001b[0m\u001b[0;34m=\u001b[0m\u001b[0;34m[\u001b[0m\u001b[0;36m41.878\u001b[0m\u001b[0;34m,\u001b[0m \u001b[0;34m-\u001b[0m\u001b[0;36m87.629\u001b[0m\u001b[0;34m]\u001b[0m\u001b[0;34m,\u001b[0m \u001b[0mzoom_start\u001b[0m\u001b[0;34m=\u001b[0m\u001b[0;36m11\u001b[0m\u001b[0;34m)\u001b[0m\u001b[0;34m\u001b[0m\u001b[0;34m\u001b[0m\u001b[0m\n\u001b[0;32m----> 3\u001b[0;31m \u001b[0;32mfor\u001b[0m \u001b[0mcoffeeshop\u001b[0m \u001b[0;32min\u001b[0m \u001b[0mopen_coffeeshops\u001b[0m\u001b[0;34m:\u001b[0m\u001b[0;34m\u001b[0m\u001b[0;34m\u001b[0m\u001b[0m\n\u001b[0m\u001b[1;32m      4\u001b[0m     \u001b[0mlt\u001b[0m \u001b[0;34m=\u001b[0m \u001b[0mcoffeeshop\u001b[0m\u001b[0;34m.\u001b[0m\u001b[0my\u001b[0m\u001b[0;34m\u001b[0m\u001b[0;34m\u001b[0m\u001b[0m\n\u001b[1;32m      5\u001b[0m     \u001b[0mlg\u001b[0m \u001b[0;34m=\u001b[0m \u001b[0mcoffeeshop\u001b[0m\u001b[0;34m.\u001b[0m\u001b[0mx\u001b[0m\u001b[0;34m\u001b[0m\u001b[0;34m\u001b[0m\u001b[0m\n",
            "\u001b[0;31mNameError\u001b[0m: name 'open_coffeeshops' is not defined"
          ]
        }
      ]
    }
  ]
}